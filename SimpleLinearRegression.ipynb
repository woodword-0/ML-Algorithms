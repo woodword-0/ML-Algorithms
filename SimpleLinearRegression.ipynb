{
  "nbformat": 4,
  "nbformat_minor": 0,
  "metadata": {
    "accelerator": "GPU",
    "colab": {
      "name": "SimpleLinearRegression.ipynb",
      "provenance": [],
      "collapsed_sections": [],
      "authorship_tag": "ABX9TyNdyN8jGrsIjnlykDRAB8AB",
      "include_colab_link": true
    },
    "kernelspec": {
      "display_name": "Python 3",
      "name": "python3"
    },
    "language_info": {
      "name": "python"
    }
  },
  "cells": [
    {
      "cell_type": "markdown",
      "metadata": {
        "id": "view-in-github",
        "colab_type": "text"
      },
      "source": [
        "<a href=\"https://colab.research.google.com/github/woodword-0/ML-Algorithms/blob/main/SimpleLinearRegression.ipynb\" target=\"_parent\"><img src=\"https://colab.research.google.com/assets/colab-badge.svg\" alt=\"Open In Colab\"/></a>"
      ]
    },
    {
      "cell_type": "code",
      "metadata": {
        "colab": {
          "base_uri": "https://localhost:8080/"
        },
        "id": "A-vpGry7n7Lx",
        "outputId": "d5993974-424c-415b-eef4-aecda87bddda"
      },
      "source": [
        "import numpy as np\n",
        "import pandas as pd\n",
        "import matplotlib.pyplot as plt\n",
        "import statistics as stat\n",
        "from scipy import stats\n",
        "import seaborn as sns; sns.set_theme()\n",
        "missing_values = ['NA','n/a',\"\",'','N/A','None','none','NONE','n.a.','?','Nan','nan','NaN']\n",
        "df = pd.read_csv('/content/raw_house_data.csv', na_values = missing_values)\n",
        "\n",
        "#replace all instances of \"None\" with zero\n",
        "#df = df.replace(\"None\", 0)\n",
        "#Columns with missing values\n",
        "nan_col = []\n",
        "for col in df.head():\n",
        "    nan = df[col].isnull().values.any()\n",
        "    if nan == True:\n",
        "        nan_col.append(col)\n",
        "print(nan_col)\n",
        "#replace all instances of \"None\" with zero\n",
        "#df1 = df.replace(\"missing_values\", 0)"
      ],
      "execution_count": 2,
      "outputs": [
        {
          "output_type": "stream",
          "text": [
            "['lot_acres', 'bathrooms', 'sqrt_ft', 'garage', 'kitchen_features', 'floor_covering', 'HOA']\n"
          ],
          "name": "stdout"
        }
      ]
    },
    {
      "cell_type": "code",
      "metadata": {
        "colab": {
          "base_uri": "https://localhost:8080/"
        },
        "id": "IV-trqO1oIIB",
        "outputId": "d4dfec08-79b5-49eb-cb8e-dcf1fd259826"
      },
      "source": [
        "df.to_numpy()"
      ],
      "execution_count": 3,
      "outputs": [
        {
          "output_type": "execute_result",
          "data": {
            "text/plain": [
              "array([[21530491, 5300000.0, 85637, ..., '6', 'Mexican Tile, Wood', '0'],\n",
              "       [21529082, 4200000.0, 85646, ..., '5', 'Natural Stone, Other',\n",
              "        '0'],\n",
              "       [3054672, 4200000.0, 85646, ..., '5',\n",
              "        'Natural Stone, Other: Rock', nan],\n",
              "       ...,\n",
              "       [21832452, 475000.0, 85192, ..., '0', 'Ceramic Tile', nan],\n",
              "       [21900515, 550000.0, 85745, ..., '1', 'Carpet, Ceramic Tile', nan],\n",
              "       [4111490, 450000.0, 85621, ..., '3', 'Carpet, Mexican Tile', nan]],\n",
              "      dtype=object)"
            ]
          },
          "metadata": {
            "tags": []
          },
          "execution_count": 3
        }
      ]
    },
    {
      "cell_type": "markdown",
      "metadata": {
        "id": "lEyuWrNmoUma"
      },
      "source": [
        "\n",
        "\n",
        "```\n",
        "# This is formatted as code\n",
        "```\n",
        "\n",
        "Cleaning Data"
      ]
    },
    {
      "cell_type": "code",
      "metadata": {
        "id": "nPYg1UcNoLzw"
      },
      "source": [
        "#Drop Nan in Column\n",
        "df = df[df['floor_covering'].notna()]\n",
        "#Frequency encoding value counts to replace kitchen features\n",
        "df['floor_covering'] = df['floor_covering'].map(df['floor_covering'].value_counts())"
      ],
      "execution_count": 4,
      "outputs": []
    },
    {
      "cell_type": "code",
      "metadata": {
        "id": "CXkseLV6oZKZ"
      },
      "source": [
        "\n",
        "#Drop Nan in Column\n",
        "df = df[df['kitchen_features'].notna()]\n",
        "#Frequency encoding value counts to replace kitchen features\n",
        "df['kitchen_features'] = df['kitchen_features'].map(df['kitchen_features'].value_counts())"
      ],
      "execution_count": 5,
      "outputs": []
    },
    {
      "cell_type": "code",
      "metadata": {
        "id": "Uk-fA5dYoe9Q"
      },
      "source": [
        "#Fill in missing values with 0\n",
        "df['bathrooms'] = df['bathrooms'].fillna(0)\n",
        "df['garage'] = df['garage'].fillna(0)\n",
        "df['HOA'] = df['HOA'].fillna(0)"
      ],
      "execution_count": 6,
      "outputs": []
    },
    {
      "cell_type": "code",
      "metadata": {
        "id": "sMAqdFp0omgy"
      },
      "source": [
        "#Fill in by the mean\n",
        "df['sqrt_ft'] = df['sqrt_ft'].fillna(df['sqrt_ft'].mean())\n",
        "df['lot_acres'] = df['lot_acres'].fillna(df['lot_acres'].mean())"
      ],
      "execution_count": 7,
      "outputs": []
    },
    {
      "cell_type": "code",
      "metadata": {
        "id": "jT-VkYaxpraM"
      },
      "source": [
        "df.drop(df[df['latitude'] > 33].index, inplace = True)\n",
        "df.drop(df[df['longitude'] < -112].index, inplace = True)\n",
        "df.drop(df[df['longitude'] > -110].index, inplace = True)"
      ],
      "execution_count": 8,
      "outputs": []
    },
    {
      "cell_type": "code",
      "metadata": {
        "colab": {
          "base_uri": "https://localhost:8080/"
        },
        "id": "pp7DCaUupE1j",
        "outputId": "8c910674-e517-48c7-b5ba-0bacfd5cd325"
      },
      "source": [
        "#Columns with missing values\n",
        "nan_col = []\n",
        "for col in df.head():\n",
        "    nan = df[col].isnull().values.any()\n",
        "    if nan == True:\n",
        "        nan_col.append(col)\n",
        "print(nan_col)"
      ],
      "execution_count": 9,
      "outputs": [
        {
          "output_type": "stream",
          "text": [
            "[]\n"
          ],
          "name": "stdout"
        }
      ]
    },
    {
      "cell_type": "markdown",
      "metadata": {
        "id": "J5o9NuC5pH8s"
      },
      "source": [
        "\n",
        "\n",
        "```\n",
        "`# This is formatted as code`\n",
        "```\n",
        "\n",
        "Feature Engineering"
      ]
    },
    {
      "cell_type": "code",
      "metadata": {
        "id": "1TBfIO8Uroa3"
      },
      "source": [
        "#Calculating Distances\n",
        "A = []\n",
        "for i in df['latitude'].index:\n",
        "  A.append((np.sqrt((df['latitude'].mean() - df['latitude'][i])**2 + (df['longitude'].mean() - df['longitude'][i])**2)))"
      ],
      "execution_count": 10,
      "outputs": []
    },
    {
      "cell_type": "code",
      "metadata": {
        "id": "NELSWeJsrurf"
      },
      "source": [
        "#Assigning a distances column to the dataframe\n",
        "df = df.assign(distances = A)\n"
      ],
      "execution_count": 11,
      "outputs": []
    },
    {
      "cell_type": "code",
      "metadata": {
        "colab": {
          "base_uri": "https://localhost:8080/"
        },
        "id": "6S7FAIfvsAEA",
        "outputId": "0ced7286-1bde-4885-8c12-ae789587b443"
      },
      "source": [
        "#bining the distances\n",
        "bin_labels_5 = ['1','2','3','4','5']\n",
        "pd.cut(df['distances'], bins=5)"
      ],
      "execution_count": 12,
      "outputs": [
        {
          "output_type": "execute_result",
          "data": {
            "text/plain": [
              "0          (0.907, 1.133]\n",
              "1           (0.68, 0.907]\n",
              "2           (0.68, 0.907]\n",
              "3           (0.454, 0.68]\n",
              "4       (4.64e-05, 0.228]\n",
              "              ...        \n",
              "4995        (0.454, 0.68]\n",
              "4996    (4.64e-05, 0.228]\n",
              "4997        (0.454, 0.68]\n",
              "4998    (4.64e-05, 0.228]\n",
              "4999       (0.907, 1.133]\n",
              "Name: distances, Length: 4954, dtype: category\n",
              "Categories (5, interval[float64]): [(4.64e-05, 0.228] < (0.228, 0.454] < (0.454, 0.68] < (0.68, 0.907] <\n",
              "                                    (0.907, 1.133]]"
            ]
          },
          "metadata": {
            "tags": []
          },
          "execution_count": 12
        }
      ]
    },
    {
      "cell_type": "code",
      "metadata": {
        "id": "qJNxwX71sV6X"
      },
      "source": [
        "#Using the bins to bin location\n",
        "df1 = df.loc[df['distances'] > 0.23, 'latitude']\n",
        "df2 = df.loc[df['distances'] > 0.23, 'longitude']\n",
        "df3 = df.loc[df['distances'] > 0.45, 'latitude']\n",
        "df4 = df.loc[df['distances'] > 0.45, 'longitude']\n",
        "df5 = df.loc[df['distances'] > 0.68, 'latitude']\n",
        "df6 = df.loc[df['distances'] > 0.68, 'longitude']\n",
        "df7 = df.loc[df['distances'] > 0.91, 'latitude']\n",
        "df8 = df.loc[df['distances'] > 0.91, 'longitude']\n",
        "# df9 = df.loc[df['distances'] > 0.79, 'latitude']\n",
        "# df10 = df.loc[df['distances'] > 0.79, 'longitude']\n",
        "# df11 = df.loc[df['distances'] > 0.91, 'latitude']\n",
        "# df12 = df.loc[df['distances'] > 0.91, 'longitude']\n",
        "# df13 = df.loc[df['distances'] > 1, 'latitude']\n",
        "# df14 = df.loc[df['distances'] > 1, 'longitude']\n",
        "# df15 = df.loc[df['distances'] > 0.57, 'latitude']\n",
        "# df16 = df.loc[df['distances'] > 0.57, 'longitude']\n",
        "# df17 = df.loc[df['distances'] > 0.68, 'latitude']\n",
        "# df18 = df.loc[df['distances'] > 0.68, 'longitude']"
      ],
      "execution_count": 13,
      "outputs": []
    },
    {
      "cell_type": "code",
      "metadata": {
        "id": "YbDLW1-B39JM"
      },
      "source": [
        "#categorizing the tax bin by government income bracket\n",
        "bin_labels_7 = ['1','2','3','4','5','6','7']\n",
        "bins = [0,9875,40125,85525,163300,207350,518400, max(df['taxes'])]\n",
        "tax_bins = pd.cut(df['taxes'], bins=7, labels = bin_labels_7)\n",
        "df = df.assign(tax_bracket = tax_bins)\n",
        "bin_labels_5 = ['1','2','3','4','5']\n",
        "df['distances'] = pd.cut(df['distances'], bins = 5, labels = bin_labels_5)"
      ],
      "execution_count": 14,
      "outputs": []
    },
    {
      "cell_type": "code",
      "metadata": {
        "colab": {
          "base_uri": "https://localhost:8080/",
          "height": 218
        },
        "id": "8ASgKnjUw3pn",
        "outputId": "eefa6649-c617-4d52-a789-f7f0099dc939"
      },
      "source": [
        "df.head()"
      ],
      "execution_count": 15,
      "outputs": [
        {
          "output_type": "execute_result",
          "data": {
            "text/html": [
              "<div>\n",
              "<style scoped>\n",
              "    .dataframe tbody tr th:only-of-type {\n",
              "        vertical-align: middle;\n",
              "    }\n",
              "\n",
              "    .dataframe tbody tr th {\n",
              "        vertical-align: top;\n",
              "    }\n",
              "\n",
              "    .dataframe thead th {\n",
              "        text-align: right;\n",
              "    }\n",
              "</style>\n",
              "<table border=\"1\" class=\"dataframe\">\n",
              "  <thead>\n",
              "    <tr style=\"text-align: right;\">\n",
              "      <th></th>\n",
              "      <th>MLS</th>\n",
              "      <th>sold_price</th>\n",
              "      <th>zipcode</th>\n",
              "      <th>longitude</th>\n",
              "      <th>latitude</th>\n",
              "      <th>lot_acres</th>\n",
              "      <th>taxes</th>\n",
              "      <th>year_built</th>\n",
              "      <th>bedrooms</th>\n",
              "      <th>bathrooms</th>\n",
              "      <th>sqrt_ft</th>\n",
              "      <th>garage</th>\n",
              "      <th>kitchen_features</th>\n",
              "      <th>fireplaces</th>\n",
              "      <th>floor_covering</th>\n",
              "      <th>HOA</th>\n",
              "      <th>distances</th>\n",
              "      <th>tax_bracket</th>\n",
              "    </tr>\n",
              "  </thead>\n",
              "  <tbody>\n",
              "    <tr>\n",
              "      <th>0</th>\n",
              "      <td>21530491</td>\n",
              "      <td>5300000.0</td>\n",
              "      <td>85637</td>\n",
              "      <td>-110.378200</td>\n",
              "      <td>31.356362</td>\n",
              "      <td>2154.00</td>\n",
              "      <td>5272.00</td>\n",
              "      <td>1941</td>\n",
              "      <td>13</td>\n",
              "      <td>10.0</td>\n",
              "      <td>10500.000000</td>\n",
              "      <td>0.0</td>\n",
              "      <td>2</td>\n",
              "      <td>6</td>\n",
              "      <td>29</td>\n",
              "      <td>0</td>\n",
              "      <td>5</td>\n",
              "      <td>1</td>\n",
              "    </tr>\n",
              "    <tr>\n",
              "      <th>1</th>\n",
              "      <td>21529082</td>\n",
              "      <td>4200000.0</td>\n",
              "      <td>85646</td>\n",
              "      <td>-111.045371</td>\n",
              "      <td>31.594213</td>\n",
              "      <td>1707.00</td>\n",
              "      <td>10422.36</td>\n",
              "      <td>1997</td>\n",
              "      <td>2</td>\n",
              "      <td>2.0</td>\n",
              "      <td>7300.000000</td>\n",
              "      <td>0.0</td>\n",
              "      <td>21</td>\n",
              "      <td>5</td>\n",
              "      <td>4</td>\n",
              "      <td>0</td>\n",
              "      <td>4</td>\n",
              "      <td>1</td>\n",
              "    </tr>\n",
              "    <tr>\n",
              "      <th>2</th>\n",
              "      <td>3054672</td>\n",
              "      <td>4200000.0</td>\n",
              "      <td>85646</td>\n",
              "      <td>-111.040707</td>\n",
              "      <td>31.594844</td>\n",
              "      <td>1707.00</td>\n",
              "      <td>10482.00</td>\n",
              "      <td>1997</td>\n",
              "      <td>2</td>\n",
              "      <td>3.0</td>\n",
              "      <td>3709.263559</td>\n",
              "      <td>0.0</td>\n",
              "      <td>68</td>\n",
              "      <td>5</td>\n",
              "      <td>1</td>\n",
              "      <td>0</td>\n",
              "      <td>4</td>\n",
              "      <td>1</td>\n",
              "    </tr>\n",
              "    <tr>\n",
              "      <th>3</th>\n",
              "      <td>21919321</td>\n",
              "      <td>4500000.0</td>\n",
              "      <td>85646</td>\n",
              "      <td>-111.035925</td>\n",
              "      <td>31.645878</td>\n",
              "      <td>636.67</td>\n",
              "      <td>8418.58</td>\n",
              "      <td>1930</td>\n",
              "      <td>7</td>\n",
              "      <td>5.0</td>\n",
              "      <td>9019.000000</td>\n",
              "      <td>4.0</td>\n",
              "      <td>1</td>\n",
              "      <td>4</td>\n",
              "      <td>3</td>\n",
              "      <td>0</td>\n",
              "      <td>3</td>\n",
              "      <td>1</td>\n",
              "    </tr>\n",
              "    <tr>\n",
              "      <th>4</th>\n",
              "      <td>21306357</td>\n",
              "      <td>3411450.0</td>\n",
              "      <td>85750</td>\n",
              "      <td>-110.813768</td>\n",
              "      <td>32.285162</td>\n",
              "      <td>3.21</td>\n",
              "      <td>15393.00</td>\n",
              "      <td>1995</td>\n",
              "      <td>4</td>\n",
              "      <td>6.0</td>\n",
              "      <td>6396.000000</td>\n",
              "      <td>3.0</td>\n",
              "      <td>1719</td>\n",
              "      <td>5</td>\n",
              "      <td>87</td>\n",
              "      <td>55</td>\n",
              "      <td>1</td>\n",
              "      <td>1</td>\n",
              "    </tr>\n",
              "  </tbody>\n",
              "</table>\n",
              "</div>"
            ],
            "text/plain": [
              "        MLS  sold_price  zipcode  ...  HOA  distances  tax_bracket\n",
              "0  21530491   5300000.0    85637  ...    0          5            1\n",
              "1  21529082   4200000.0    85646  ...    0          4            1\n",
              "2   3054672   4200000.0    85646  ...    0          4            1\n",
              "3  21919321   4500000.0    85646  ...    0          3            1\n",
              "4  21306357   3411450.0    85750  ...   55          1            1\n",
              "\n",
              "[5 rows x 18 columns]"
            ]
          },
          "metadata": {
            "tags": []
          },
          "execution_count": 15
        }
      ]
    },
    {
      "cell_type": "code",
      "metadata": {
        "colab": {
          "base_uri": "https://localhost:8080/"
        },
        "id": "k6aod2YBxjEq",
        "outputId": "d0e362d9-040c-40be-a8cd-8ef2d0804294"
      },
      "source": [
        "(min(df['taxes']), max(df['taxes']))"
      ],
      "execution_count": 16,
      "outputs": [
        {
          "output_type": "execute_result",
          "data": {
            "text/plain": [
              "(0.0, 12215075.0)"
            ]
          },
          "metadata": {
            "tags": []
          },
          "execution_count": 16
        }
      ]
    },
    {
      "cell_type": "code",
      "metadata": {
        "id": "4MY5DODqLhdo"
      },
      "source": [
        "#Returns a list of tax brackets for each location\n",
        "locator1 = df.loc[df['distances'] == '1','tax_bracket']\n",
        "locator2 = df.loc[df['distances'] == '2','tax_bracket']\n",
        "locator3 = df.loc[df['distances'] == '3','tax_bracket']\n",
        "locator4 = df.loc[df['distances'] == '4','tax_bracket']\n",
        "locator5 = df.loc[df['distances'] == '5','tax_bracket']\n",
        "# locator6 = df.loc[df['distances'] == '6','tax_bracket']\n",
        "# locator7 = df.loc[df['distances'] == '7','tax_bracket']\n",
        "# locator8 = df.loc[df['distances'] == '8','tax_bracket']\n",
        "# locator9 = df.loc[df['distances'] == '9','tax_bracket']\n",
        "# locator10 = df.loc[df['distances'] == '10','tax_bracket']"
      ],
      "execution_count": 17,
      "outputs": []
    },
    {
      "cell_type": "code",
      "metadata": {
        "id": "lj0bmJMm1OSP"
      },
      "source": [
        "#Adds columns\n",
        "df = df.assign(bracket_1 = locator1) #For i = 1,2,3,4,5 column contains all tax brackets for that i.\n",
        "df = df.assign(bracket_2 = locator2)\n",
        "df = df.assign(bracket_3 = locator3)\n",
        "df = df.assign(bracket_4 = locator4)\n",
        "df = df.assign(bracket_5 = locator5)\n",
        "# df = df.assign(bracket_6 = locator6) #For i = 1,2,3,4,5 column contains all tax brackets for that i.\n",
        "# df = df.assign(bracket_7 = locator7)\n",
        "# df = df.assign(bracket_8 = locator8)\n",
        "# df = df.assign(bracket_9 = locator9)\n",
        "# df = df.assign(bracket_10 = locator10)"
      ],
      "execution_count": 18,
      "outputs": []
    },
    {
      "cell_type": "code",
      "metadata": {
        "id": "NWxyFm3gGozC"
      },
      "source": [
        "#Add empty category zero for imputing\n",
        "df['bracket_1'] = df['bracket_1'].cat.add_categories(0)\n",
        "df['bracket_2'] = df['bracket_2'].cat.add_categories(0)\n",
        "df['bracket_3'] = df['bracket_3'].cat.add_categories(0)\n",
        "df['bracket_4'] = df['bracket_4'].cat.add_categories(0)\n",
        "df['bracket_5'] = df['bracket_5'].cat.add_categories(0)\n",
        "# df['bracket_6'] = df['bracket_6'].cat.add_categories(0)\n",
        "# df['bracket_7'] = df['bracket_7'].cat.add_categories(0)\n",
        "# df['bracket_8'] = df['bracket_8'].cat.add_categories(0)\n",
        "# df['bracket_9'] = df['bracket_9'].cat.add_categories(0)\n",
        "# df['bracket_10'] = df['bracket_10'].cat.add_categories(0)"
      ],
      "execution_count": 19,
      "outputs": []
    },
    {
      "cell_type": "code",
      "metadata": {
        "id": "1Ry-7xYHTiv5"
      },
      "source": [
        "#Change to float or int\n",
        "df['distances'] = df['distances'].astype('int')\n",
        "df['bracket_1'] = df['bracket_1'].fillna(0).astype('int')\n",
        "df['bracket_2'] = df['bracket_2'].fillna(0).astype('int')\n",
        "df['bracket_3'] = df['bracket_3'].fillna(0).astype('int')\n",
        "df['bracket_4'] = df['bracket_4'].fillna(0).astype('int')\n",
        "df['bracket_5'] = df['bracket_5'].fillna(0).astype('int')\n",
        "df['distances'] = df['distances'].astype('int')\n",
        "# df['bracket_6'] = df['bracket_6'].fillna(0).astype('int')\n",
        "# df['bracket_7'] = df['bracket_7'].fillna(0).astype('int')\n",
        "# df['bracket_8'] = df['bracket_8'].fillna(0).astype('int')\n",
        "# df['bracket_9'] = df['bracket_9'].fillna(0).astype('int')\n",
        "# df['bracket_10'] = df['bracket_10'].fillna(0).astype('int')\n",
        "df['tax_bracket'] = df['tax_bracket'].astype('int')"
      ],
      "execution_count": 20,
      "outputs": []
    },
    {
      "cell_type": "code",
      "metadata": {
        "id": "GHQ-1gHHnJnX"
      },
      "source": [
        "#Replaces value with appropriate taxbracket by location\n",
        "df.loc[df['bracket_1'] == 1, 'distances'] = 11\n",
        "df.loc[df['bracket_1'] == 2, 'distances'] = 12\n",
        "df.loc[df['bracket_1'] == 3, 'distances'] = 13\n",
        "df.loc[df['bracket_1'] == 4, 'distances'] = 14\n",
        "df.loc[df['bracket_1'] == 5, 'distances'] = 15\n",
        "# df.loc[df['bracket_1'] == 6, 'distances'] = 16\n",
        "# df.loc[df['bracket_1'] == 7, 'distances'] = 17\n",
        "# df.loc[df['bracket_1'] == 8, 'distances'] = 18\n",
        "# df.loc[df['bracket_1'] == 9, 'distances'] = 19\n",
        "# df.loc[df['bracket_1'] == 10, 'distances'] = 110"
      ],
      "execution_count": 21,
      "outputs": []
    },
    {
      "cell_type": "code",
      "metadata": {
        "id": "EdDnb6QEnA47"
      },
      "source": [
        "df.loc[df['bracket_2'] == 1, 'distances'] = 21\n",
        "df.loc[df['bracket_2'] == 2, 'distances'] = 22\n",
        "df.loc[df['bracket_2'] == 3, 'distances'] = 23\n",
        "df.loc[df['bracket_2'] == 4, 'distances'] = 24\n",
        "df.loc[df['bracket_2'] == 5, 'distances'] = 25\n",
        "# df.loc[df['bracket_2'] == 6, 'distances'] = 26\n",
        "# df.loc[df['bracket_2'] == 7, 'distances'] = 27"
      ],
      "execution_count": 22,
      "outputs": []
    },
    {
      "cell_type": "code",
      "metadata": {
        "id": "AS5pft9ElU6A"
      },
      "source": [
        "df.loc[df['bracket_3'] == 1, 'distances'] = 31\n",
        "df.loc[df['bracket_3'] == 2, 'distances'] = 32\n",
        "df.loc[df['bracket_3'] == 3, 'distances'] = 33\n",
        "df.loc[df['bracket_3'] == 4, 'distances'] = 34\n",
        "df.loc[df['bracket_3'] == 5, 'distances'] = 35\n",
        "# df.loc[df['bracket_3'] == 6, 'distances'] = 36\n",
        "# df.loc[df['bracket_3'] == 7, 'distances'] = 37"
      ],
      "execution_count": 23,
      "outputs": []
    },
    {
      "cell_type": "code",
      "metadata": {
        "id": "pNRtOnlLmYD0"
      },
      "source": [
        "df.loc[df['bracket_4'] == 1, 'distances'] = 41\n",
        "df.loc[df['bracket_4'] == 2, 'distances'] = 42\n",
        "df.loc[df['bracket_4'] == 3, 'distances'] = 43\n",
        "df.loc[df['bracket_4'] == 4, 'distances'] = 44\n",
        "df.loc[df['bracket_4'] == 5, 'distances'] = 45\n",
        "# # df.loc[df['bracket_4'] == 6, 'distances'] = 46\n",
        "# # df.loc[df['bracket_4'] == 7, 'distances'] = 47"
      ],
      "execution_count": 24,
      "outputs": []
    },
    {
      "cell_type": "code",
      "metadata": {
        "id": "vICrDnzjmfyD"
      },
      "source": [
        "df.loc[df['bracket_5'] == 1, 'distances'] = 51\n",
        "df.loc[df['bracket_5'] == 2, 'distances'] = 52\n",
        "df.loc[df['bracket_5'] == 3, 'distances'] = 53\n",
        "df.loc[df['bracket_5'] == 4, 'distances'] = 54\n",
        "df.loc[df['bracket_5'] == 5, 'distances'] = 55\n",
        "# df.loc[df['bracket_5'] == 6, 'distances'] = 56\n",
        "# df.loc[df['bracket_5'] == 7, 'distances'] = 57"
      ],
      "execution_count": 25,
      "outputs": []
    },
    {
      "cell_type": "code",
      "metadata": {
        "id": "8gKJ62FKU5M9"
      },
      "source": [
        "# df.loc[df['bracket_6'] == 1, 'distances'] = 61\n",
        "# df.loc[df['bracket_6'] == 2, 'distances'] = 62\n",
        "# df.loc[df['bracket_6'] == 3, 'distances'] = 63\n",
        "# df.loc[df['bracket_6'] == 4, 'distances'] = 64\n",
        "# df.loc[df['bracket_6'] == 5, 'distances'] = 65"
      ],
      "execution_count": 26,
      "outputs": []
    },
    {
      "cell_type": "code",
      "metadata": {
        "id": "j8cN8LaUVFzT"
      },
      "source": [
        "# df.loc[df['bracket_7'] == 1, 'distances'] = 71\n",
        "# df.loc[df['bracket_7'] == 2, 'distances'] = 72\n",
        "# df.loc[df['bracket_7'] == 3, 'distances'] = 73\n",
        "# df.loc[df['bracket_7'] == 4, 'distances'] = 74\n",
        "# df.loc[df['bracket_7'] == 5, 'distances'] = 75"
      ],
      "execution_count": 27,
      "outputs": []
    },
    {
      "cell_type": "code",
      "metadata": {
        "id": "WDUHLZbAVL6I"
      },
      "source": [
        "# df.loc[df['bracket_8'] == 1, 'distances'] = 81\n",
        "# df.loc[df['bracket_8'] == 2, 'distances'] = 82\n",
        "# df.loc[df['bracket_8'] == 3, 'distances'] = 83\n",
        "# df.loc[df['bracket_8'] == 4, 'distances'] = 84\n",
        "# df.loc[df['bracket_8'] == 5, 'distances'] = 85"
      ],
      "execution_count": 28,
      "outputs": []
    },
    {
      "cell_type": "code",
      "metadata": {
        "id": "fYQfzYp_VQ6L"
      },
      "source": [
        "# df.loc[df['bracket_9'] == 1, 'distances'] = 91\n",
        "# df.loc[df['bracket_9'] == 2, 'distances'] = 92\n",
        "# df.loc[df['bracket_9'] == 3, 'distances'] = 93\n",
        "# df.loc[df['bracket_9'] == 4, 'distances'] = 94\n",
        "# df.loc[df['bracket_9'] == 5, 'distances'] = 95"
      ],
      "execution_count": 29,
      "outputs": []
    },
    {
      "cell_type": "code",
      "metadata": {
        "id": "4AmaTH4xVV_W"
      },
      "source": [
        "# df.loc[df['bracket_10'] == 1, 'distances'] = 101\n",
        "# df.loc[df['bracket_10'] == 2, 'distances'] = 102\n",
        "# df.loc[df['bracket_10'] == 3, 'distances'] = 103\n",
        "# df.loc[df['bracket_10'] == 4, 'distances'] = 104\n",
        "# df.loc[df['bracket_10'] == 5, 'distances'] = 105"
      ],
      "execution_count": 30,
      "outputs": []
    },
    {
      "cell_type": "code",
      "metadata": {
        "colab": {
          "base_uri": "https://localhost:8080/"
        },
        "id": "VvicaNy9VDix",
        "outputId": "9e16f639-5844-47fc-b862-430cef68341d"
      },
      "source": [
        "#Columns with missing values\n",
        "nan_col = []\n",
        "for col in df.head():\n",
        "    nan = df[col].isnull().values.any()\n",
        "    if nan == True:\n",
        "        nan_col.append(col)\n",
        "print(nan_col)"
      ],
      "execution_count": 31,
      "outputs": [
        {
          "output_type": "stream",
          "text": [
            "[]\n"
          ],
          "name": "stdout"
        }
      ]
    },
    {
      "cell_type": "markdown",
      "metadata": {
        "id": "DmE6BI6DqXsS"
      },
      "source": [
        "Normalizing"
      ]
    },
    {
      "cell_type": "code",
      "metadata": {
        "id": "NtIhbr1BqZeA"
      },
      "source": [
        "df['sold_price'] = df.apply(lambda x: x['sold_price']/x['sqrt_ft'], axis=1)"
      ],
      "execution_count": 32,
      "outputs": []
    },
    {
      "cell_type": "code",
      "metadata": {
        "id": "6USotVyisSLz"
      },
      "source": [
        "df['year_built'] = 2021 - df['year_built']\n",
        "df['MLS']=(df['MLS']-df['MLS'].min())/(df['MLS'].max()-df['MLS'].min())\n",
        "df['zipcode']=(df['zipcode']-df['zipcode'].min())/(df['zipcode'].max()-df['zipcode'].min())\n",
        "df['sold_price']=(df['sold_price']-df['sold_price'].min())/(df['sold_price'].max()-df['sold_price'].min())\n",
        "df['latitude']=(df['latitude']-df['latitude'].min())/(df['latitude'].max()-df['latitude'].min())\n",
        "df['longitude']=(df['longitude']-df['longitude'].min())/(df['longitude'].max()-df['longitude'].min())\n",
        "df['taxes']=(df['taxes']-df['taxes'].min())/(df['taxes'].max()-df['taxes'].min())\n",
        "df['year_built']=(df['year_built']-df['year_built'].min())/(df['year_built'].max()-df['year_built'].min())\n",
        "df['bedrooms']=(df['bedrooms']-df['bedrooms'].min())/(df['bedrooms'].max()-df['bedrooms'].min())\n",
        "df['bathrooms']=(df['bathrooms']-df['bathrooms'].min())/(df['bathrooms'].max()-df['bathrooms'].min())\n",
        "df['garage']=(df['garage']-df['garage'].min())/(df['garage'].max()-df['garage'].min())\n",
        "df['kitchen_features']=(df['kitchen_features']-df['kitchen_features'].min())/(df['kitchen_features'].max()-df['kitchen_features'].min())\n",
        "df['floor_covering']=(df['floor_covering']-df['floor_covering'].min())/(df['floor_covering'].max()-df['floor_covering'].min())\n",
        "df['tax_bracket']=(df['tax_bracket']-df['tax_bracket'].min())/(df['tax_bracket'].max()-df['tax_bracket'].min())\n",
        "df['bracket_1']=(df['bracket_1']-df['bracket_1'].min())/(df['bracket_1'].max()-df['bracket_1'].min())\n",
        "df['bracket_2']=(df['bracket_2']-df['bracket_2'].min())/(df['bracket_2'].max()-df['bracket_2'].min())\n",
        "df['bracket_3']=(df['bracket_3']-df['bracket_3'].min())/(df['bracket_3'].max()-df['bracket_3'].min())\n",
        "df['bracket_4']=(df['bracket_4']-df['bracket_4'].min())/(df['bracket_4'].max()-df['bracket_4'].min())\n",
        "df['bracket_5']=(df['bracket_5']-df['bracket_5'].min())/(df['bracket_5'].max()-df['bracket_5'].min())"
      ],
      "execution_count": 33,
      "outputs": []
    },
    {
      "cell_type": "code",
      "metadata": {
        "colab": {
          "base_uri": "https://localhost:8080/",
          "height": 218
        },
        "id": "dqHlzhi_oISv",
        "outputId": "63179a53-edbb-4c44-c8f4-a688e3469ebd"
      },
      "source": [
        "X = df\n",
        "df.sample(frac=1)\n",
        "X.head()"
      ],
      "execution_count": 34,
      "outputs": [
        {
          "output_type": "execute_result",
          "data": {
            "text/html": [
              "<div>\n",
              "<style scoped>\n",
              "    .dataframe tbody tr th:only-of-type {\n",
              "        vertical-align: middle;\n",
              "    }\n",
              "\n",
              "    .dataframe tbody tr th {\n",
              "        vertical-align: top;\n",
              "    }\n",
              "\n",
              "    .dataframe thead th {\n",
              "        text-align: right;\n",
              "    }\n",
              "</style>\n",
              "<table border=\"1\" class=\"dataframe\">\n",
              "  <thead>\n",
              "    <tr style=\"text-align: right;\">\n",
              "      <th></th>\n",
              "      <th>MLS</th>\n",
              "      <th>sold_price</th>\n",
              "      <th>zipcode</th>\n",
              "      <th>longitude</th>\n",
              "      <th>latitude</th>\n",
              "      <th>lot_acres</th>\n",
              "      <th>taxes</th>\n",
              "      <th>year_built</th>\n",
              "      <th>bedrooms</th>\n",
              "      <th>bathrooms</th>\n",
              "      <th>sqrt_ft</th>\n",
              "      <th>garage</th>\n",
              "      <th>kitchen_features</th>\n",
              "      <th>fireplaces</th>\n",
              "      <th>floor_covering</th>\n",
              "      <th>HOA</th>\n",
              "      <th>distances</th>\n",
              "      <th>tax_bracket</th>\n",
              "      <th>bracket_1</th>\n",
              "      <th>bracket_2</th>\n",
              "      <th>bracket_3</th>\n",
              "      <th>bracket_4</th>\n",
              "      <th>bracket_5</th>\n",
              "    </tr>\n",
              "  </thead>\n",
              "  <tbody>\n",
              "    <tr>\n",
              "      <th>0</th>\n",
              "      <td>0.978922</td>\n",
              "      <td>0.405661</td>\n",
              "      <td>0.790409</td>\n",
              "      <td>0.735593</td>\n",
              "      <td>0.000000</td>\n",
              "      <td>2154.00</td>\n",
              "      <td>0.000432</td>\n",
              "      <td>0.038633</td>\n",
              "      <td>0.342857</td>\n",
              "      <td>0.277778</td>\n",
              "      <td>10500.000000</td>\n",
              "      <td>0.000000</td>\n",
              "      <td>0.000582</td>\n",
              "      <td>6</td>\n",
              "      <td>0.022690</td>\n",
              "      <td>0</td>\n",
              "      <td>51</td>\n",
              "      <td>0.0</td>\n",
              "      <td>0.000000</td>\n",
              "      <td>0.0</td>\n",
              "      <td>0.0</td>\n",
              "      <td>0.0</td>\n",
              "      <td>1.0</td>\n",
              "    </tr>\n",
              "    <tr>\n",
              "      <th>1</th>\n",
              "      <td>0.978847</td>\n",
              "      <td>0.465284</td>\n",
              "      <td>0.806394</td>\n",
              "      <td>0.202998</td>\n",
              "      <td>0.147885</td>\n",
              "      <td>1707.00</td>\n",
              "      <td>0.000853</td>\n",
              "      <td>0.010896</td>\n",
              "      <td>0.028571</td>\n",
              "      <td>0.055556</td>\n",
              "      <td>7300.000000</td>\n",
              "      <td>0.000000</td>\n",
              "      <td>0.011641</td>\n",
              "      <td>5</td>\n",
              "      <td>0.002431</td>\n",
              "      <td>0</td>\n",
              "      <td>41</td>\n",
              "      <td>0.0</td>\n",
              "      <td>0.000000</td>\n",
              "      <td>0.0</td>\n",
              "      <td>0.0</td>\n",
              "      <td>1.0</td>\n",
              "      <td>0.0</td>\n",
              "    </tr>\n",
              "    <tr>\n",
              "      <th>2</th>\n",
              "      <td>0.000626</td>\n",
              "      <td>0.935771</td>\n",
              "      <td>0.806394</td>\n",
              "      <td>0.206721</td>\n",
              "      <td>0.148278</td>\n",
              "      <td>1707.00</td>\n",
              "      <td>0.000858</td>\n",
              "      <td>0.010896</td>\n",
              "      <td>0.028571</td>\n",
              "      <td>0.083333</td>\n",
              "      <td>3709.263559</td>\n",
              "      <td>0.000000</td>\n",
              "      <td>0.038999</td>\n",
              "      <td>5</td>\n",
              "      <td>0.000000</td>\n",
              "      <td>0</td>\n",
              "      <td>41</td>\n",
              "      <td>0.0</td>\n",
              "      <td>0.000000</td>\n",
              "      <td>0.0</td>\n",
              "      <td>0.0</td>\n",
              "      <td>1.0</td>\n",
              "      <td>0.0</td>\n",
              "    </tr>\n",
              "    <tr>\n",
              "      <th>3</th>\n",
              "      <td>0.999511</td>\n",
              "      <td>0.400749</td>\n",
              "      <td>0.806394</td>\n",
              "      <td>0.210539</td>\n",
              "      <td>0.180009</td>\n",
              "      <td>636.67</td>\n",
              "      <td>0.000689</td>\n",
              "      <td>0.044081</td>\n",
              "      <td>0.171429</td>\n",
              "      <td>0.138889</td>\n",
              "      <td>9019.000000</td>\n",
              "      <td>0.133333</td>\n",
              "      <td>0.000000</td>\n",
              "      <td>4</td>\n",
              "      <td>0.001621</td>\n",
              "      <td>0</td>\n",
              "      <td>31</td>\n",
              "      <td>0.0</td>\n",
              "      <td>0.000000</td>\n",
              "      <td>0.0</td>\n",
              "      <td>1.0</td>\n",
              "      <td>0.0</td>\n",
              "      <td>0.0</td>\n",
              "    </tr>\n",
              "    <tr>\n",
              "      <th>4</th>\n",
              "      <td>0.967054</td>\n",
              "      <td>0.429830</td>\n",
              "      <td>0.991119</td>\n",
              "      <td>0.387884</td>\n",
              "      <td>0.577488</td>\n",
              "      <td>3.21</td>\n",
              "      <td>0.001260</td>\n",
              "      <td>0.011887</td>\n",
              "      <td>0.085714</td>\n",
              "      <td>0.166667</td>\n",
              "      <td>6396.000000</td>\n",
              "      <td>0.100000</td>\n",
              "      <td>1.000000</td>\n",
              "      <td>5</td>\n",
              "      <td>0.069692</td>\n",
              "      <td>55</td>\n",
              "      <td>11</td>\n",
              "      <td>0.0</td>\n",
              "      <td>0.142857</td>\n",
              "      <td>0.0</td>\n",
              "      <td>0.0</td>\n",
              "      <td>0.0</td>\n",
              "      <td>0.0</td>\n",
              "    </tr>\n",
              "  </tbody>\n",
              "</table>\n",
              "</div>"
            ],
            "text/plain": [
              "        MLS  sold_price   zipcode  ...  bracket_3  bracket_4  bracket_5\n",
              "0  0.978922    0.405661  0.790409  ...        0.0        0.0        1.0\n",
              "1  0.978847    0.465284  0.806394  ...        0.0        1.0        0.0\n",
              "2  0.000626    0.935771  0.806394  ...        0.0        1.0        0.0\n",
              "3  0.999511    0.400749  0.806394  ...        1.0        0.0        0.0\n",
              "4  0.967054    0.429830  0.991119  ...        0.0        0.0        0.0\n",
              "\n",
              "[5 rows x 23 columns]"
            ]
          },
          "metadata": {
            "tags": []
          },
          "execution_count": 34
        }
      ]
    },
    {
      "cell_type": "code",
      "metadata": {
        "id": "kXhcLyc9qa1C"
      },
      "source": [
        "df1 = df[['distances','longitude', 'latitude']].copy()"
      ],
      "execution_count": 35,
      "outputs": []
    },
    {
      "cell_type": "code",
      "metadata": {
        "id": "KndHgd7cqg1P"
      },
      "source": [
        "X1_train = df1.iloc[:3963,1:].to_numpy()\n",
        "y1_train = df1.iloc[:3963,0].to_numpy()\n",
        "X1_test =  df1.iloc[3963:4458,1:].to_numpy()\n",
        "y1_test = df1.iloc[3963:4458,0].to_numpy()\n",
        "X1_validate =  df1.iloc[4458:4954,1:].to_numpy()\n",
        "y1_validate = df1.iloc[4458:4954,0].to_numpy()"
      ],
      "execution_count": 36,
      "outputs": []
    },
    {
      "cell_type": "code",
      "metadata": {
        "id": "hsF3XF1hpkAC"
      },
      "source": [
        "df2 = df[['sold_price','distances','bedrooms','bathrooms','sqrt_ft','lot_acres','year_built','zipcode','garage']].copy()"
      ],
      "execution_count": 37,
      "outputs": []
    },
    {
      "cell_type": "code",
      "metadata": {
        "colab": {
          "base_uri": "https://localhost:8080/",
          "height": 407
        },
        "id": "04-f6pFlsaMF",
        "outputId": "ac086de7-e64d-4e2b-980b-fdf1e94e8fba"
      },
      "source": [
        "df2"
      ],
      "execution_count": 38,
      "outputs": [
        {
          "output_type": "execute_result",
          "data": {
            "text/html": [
              "<div>\n",
              "<style scoped>\n",
              "    .dataframe tbody tr th:only-of-type {\n",
              "        vertical-align: middle;\n",
              "    }\n",
              "\n",
              "    .dataframe tbody tr th {\n",
              "        vertical-align: top;\n",
              "    }\n",
              "\n",
              "    .dataframe thead th {\n",
              "        text-align: right;\n",
              "    }\n",
              "</style>\n",
              "<table border=\"1\" class=\"dataframe\">\n",
              "  <thead>\n",
              "    <tr style=\"text-align: right;\">\n",
              "      <th></th>\n",
              "      <th>sold_price</th>\n",
              "      <th>distances</th>\n",
              "      <th>bedrooms</th>\n",
              "      <th>bathrooms</th>\n",
              "      <th>sqrt_ft</th>\n",
              "      <th>lot_acres</th>\n",
              "      <th>year_built</th>\n",
              "      <th>zipcode</th>\n",
              "      <th>garage</th>\n",
              "    </tr>\n",
              "  </thead>\n",
              "  <tbody>\n",
              "    <tr>\n",
              "      <th>0</th>\n",
              "      <td>0.405661</td>\n",
              "      <td>51</td>\n",
              "      <td>0.342857</td>\n",
              "      <td>0.277778</td>\n",
              "      <td>10500.000000</td>\n",
              "      <td>2154.00</td>\n",
              "      <td>0.038633</td>\n",
              "      <td>0.790409</td>\n",
              "      <td>0.000000</td>\n",
              "    </tr>\n",
              "    <tr>\n",
              "      <th>1</th>\n",
              "      <td>0.465284</td>\n",
              "      <td>41</td>\n",
              "      <td>0.028571</td>\n",
              "      <td>0.055556</td>\n",
              "      <td>7300.000000</td>\n",
              "      <td>1707.00</td>\n",
              "      <td>0.010896</td>\n",
              "      <td>0.806394</td>\n",
              "      <td>0.000000</td>\n",
              "    </tr>\n",
              "    <tr>\n",
              "      <th>2</th>\n",
              "      <td>0.935771</td>\n",
              "      <td>41</td>\n",
              "      <td>0.028571</td>\n",
              "      <td>0.083333</td>\n",
              "      <td>3709.263559</td>\n",
              "      <td>1707.00</td>\n",
              "      <td>0.010896</td>\n",
              "      <td>0.806394</td>\n",
              "      <td>0.000000</td>\n",
              "    </tr>\n",
              "    <tr>\n",
              "      <th>3</th>\n",
              "      <td>0.400749</td>\n",
              "      <td>31</td>\n",
              "      <td>0.171429</td>\n",
              "      <td>0.138889</td>\n",
              "      <td>9019.000000</td>\n",
              "      <td>636.67</td>\n",
              "      <td>0.044081</td>\n",
              "      <td>0.806394</td>\n",
              "      <td>0.133333</td>\n",
              "    </tr>\n",
              "    <tr>\n",
              "      <th>4</th>\n",
              "      <td>0.429830</td>\n",
              "      <td>11</td>\n",
              "      <td>0.085714</td>\n",
              "      <td>0.166667</td>\n",
              "      <td>6396.000000</td>\n",
              "      <td>3.21</td>\n",
              "      <td>0.011887</td>\n",
              "      <td>0.991119</td>\n",
              "      <td>0.100000</td>\n",
              "    </tr>\n",
              "    <tr>\n",
              "      <th>...</th>\n",
              "      <td>...</td>\n",
              "      <td>...</td>\n",
              "      <td>...</td>\n",
              "      <td>...</td>\n",
              "      <td>...</td>\n",
              "      <td>...</td>\n",
              "      <td>...</td>\n",
              "      <td>...</td>\n",
              "      <td>...</td>\n",
              "    </tr>\n",
              "    <tr>\n",
              "      <th>4995</th>\n",
              "      <td>0.095386</td>\n",
              "      <td>31</td>\n",
              "      <td>0.114286</td>\n",
              "      <td>0.083333</td>\n",
              "      <td>3601.000000</td>\n",
              "      <td>4.98</td>\n",
              "      <td>0.006934</td>\n",
              "      <td>0.797513</td>\n",
              "      <td>0.100000</td>\n",
              "    </tr>\n",
              "    <tr>\n",
              "      <th>4996</th>\n",
              "      <td>0.179702</td>\n",
              "      <td>11</td>\n",
              "      <td>0.085714</td>\n",
              "      <td>0.083333</td>\n",
              "      <td>2318.000000</td>\n",
              "      <td>1.42</td>\n",
              "      <td>0.014364</td>\n",
              "      <td>0.991119</td>\n",
              "      <td>0.100000</td>\n",
              "    </tr>\n",
              "    <tr>\n",
              "      <th>4997</th>\n",
              "      <td>0.205707</td>\n",
              "      <td>31</td>\n",
              "      <td>0.057143</td>\n",
              "      <td>0.055556</td>\n",
              "      <td>1772.000000</td>\n",
              "      <td>12.06</td>\n",
              "      <td>0.024765</td>\n",
              "      <td>0.000000</td>\n",
              "      <td>0.000000</td>\n",
              "    </tr>\n",
              "    <tr>\n",
              "      <th>4998</th>\n",
              "      <td>0.104027</td>\n",
              "      <td>11</td>\n",
              "      <td>0.085714</td>\n",
              "      <td>0.111111</td>\n",
              "      <td>3724.000000</td>\n",
              "      <td>1.01</td>\n",
              "      <td>0.004953</td>\n",
              "      <td>0.982238</td>\n",
              "      <td>0.100000</td>\n",
              "    </tr>\n",
              "    <tr>\n",
              "      <th>4999</th>\n",
              "      <td>0.067321</td>\n",
              "      <td>51</td>\n",
              "      <td>0.085714</td>\n",
              "      <td>0.111111</td>\n",
              "      <td>4317.000000</td>\n",
              "      <td>4.16</td>\n",
              "      <td>0.015354</td>\n",
              "      <td>0.761989</td>\n",
              "      <td>0.000000</td>\n",
              "    </tr>\n",
              "  </tbody>\n",
              "</table>\n",
              "<p>4954 rows × 9 columns</p>\n",
              "</div>"
            ],
            "text/plain": [
              "      sold_price  distances  bedrooms  ...  year_built   zipcode    garage\n",
              "0       0.405661         51  0.342857  ...    0.038633  0.790409  0.000000\n",
              "1       0.465284         41  0.028571  ...    0.010896  0.806394  0.000000\n",
              "2       0.935771         41  0.028571  ...    0.010896  0.806394  0.000000\n",
              "3       0.400749         31  0.171429  ...    0.044081  0.806394  0.133333\n",
              "4       0.429830         11  0.085714  ...    0.011887  0.991119  0.100000\n",
              "...          ...        ...       ...  ...         ...       ...       ...\n",
              "4995    0.095386         31  0.114286  ...    0.006934  0.797513  0.100000\n",
              "4996    0.179702         11  0.085714  ...    0.014364  0.991119  0.100000\n",
              "4997    0.205707         31  0.057143  ...    0.024765  0.000000  0.000000\n",
              "4998    0.104027         11  0.085714  ...    0.004953  0.982238  0.100000\n",
              "4999    0.067321         51  0.085714  ...    0.015354  0.761989  0.000000\n",
              "\n",
              "[4954 rows x 9 columns]"
            ]
          },
          "metadata": {
            "tags": []
          },
          "execution_count": 38
        }
      ]
    },
    {
      "cell_type": "code",
      "metadata": {
        "id": "TReN3Kxr03c5"
      },
      "source": [
        "q1 = df2.zipcode.quantile(0.05)\n",
        "def app(x):\n",
        "  if x < q1:\n",
        "    return q1\n",
        "  else:\n",
        "    return x\n",
        "q2 = df2.zipcode.quantile(0.95)\n",
        "def app1(x):\n",
        "  if x > q2:\n",
        "    return q2\n",
        "  else:\n",
        "    return x\n",
        "df2[\"zipcode\"] = df2.zipcode.apply(app)\n",
        "df2[\"zipcode\"] = df2.zipcode.apply(app1)\n",
        "v1 = df2.year_built.quantile(0.05)\n",
        "def cut(x):\n",
        "  if x < v1:\n",
        "    return v1\n",
        "  else:\n",
        "    return x\n",
        "v2 = df2.year_built.quantile(0.95)\n",
        "def cut1(x):\n",
        "  if x > v2:\n",
        "    return v2\n",
        "  else:\n",
        "    return x\n",
        "df2[\"year_built\"] = df2.year_built.apply(cut)\n",
        "df2[\"year_built\"] = df2.year_built.apply(cut1)"
      ],
      "execution_count": 39,
      "outputs": []
    },
    {
      "cell_type": "code",
      "metadata": {
        "id": "JBFlpKlFLMfZ"
      },
      "source": [
        "q1 = df2.sold_price.quantile(0.05)\n",
        "def app(x):\n",
        "  if x < q1:\n",
        "    return q1\n",
        "  else:\n",
        "    return x\n",
        "q2 = df2.sold_price.quantile(0.95)\n",
        "def app1(x):\n",
        "  if x > q2:\n",
        "    return q2\n",
        "  else:\n",
        "    return x\n",
        "df2[\"sold_price\"] = df2.sold_price.apply(app)\n",
        "df2[\"sold_price\"] = df2.sold_price.apply(app1)"
      ],
      "execution_count": 40,
      "outputs": []
    },
    {
      "cell_type": "code",
      "metadata": {
        "id": "eCkw9UA5n_Zp"
      },
      "source": [
        "q1 = df2.garage.quantile(0.05)\n",
        "def app(x):\n",
        "  if x < q1:\n",
        "    return q1\n",
        "  else:\n",
        "    return x\n",
        "q2 = df2.garage.quantile(0.95)\n",
        "def app1(x):\n",
        "  if x > q2:\n",
        "    return q2\n",
        "  else:\n",
        "    return x\n",
        "df2[\"garage\"] = df2.garage.apply(app)\n",
        "df2[\"garage\"] = df2.garage.apply(app1)\n",
        "# v1 = df2.HOA.quantile(0.05)\n",
        "# def cut(x):\n",
        "#   if x < v1:\n",
        "#     return v1\n",
        "#   else:\n",
        "#     return x\n",
        "# v2 = df2.HOA.quantile(0.95)\n",
        "# def cut1(x):\n",
        "#   if x > v2:\n",
        "#     return v2\n",
        "#   else:\n",
        "#     return x\n",
        "# df2[\"HOA\"] = df2.HOA.apply(cut)\n",
        "# df2[\"HOA\"] = df2.HOA.apply(cut1)"
      ],
      "execution_count": 41,
      "outputs": []
    },
    {
      "cell_type": "code",
      "metadata": {
        "id": "nBQso0lt4ccF"
      },
      "source": [
        "q1 = df2.sqrt_ft.quantile(0.05)\n",
        "def app(x):\n",
        "  if x < q1:\n",
        "    return q1\n",
        "  else:\n",
        "    return x\n",
        "q2 = df2.sqrt_ft.quantile(0.95)\n",
        "def app1(x):\n",
        "  if x > q2:\n",
        "    return q2\n",
        "  else:\n",
        "    return x\n",
        "df2[\"sqrt_ft\"] = df2.sqrt_ft.apply(app)\n",
        "df2[\"sqrt_ft\"] = df2.sqrt_ft.apply(app1)\n",
        "v1 = df2.lot_acres.quantile(0.05)\n",
        "def cut(x):\n",
        "  if x < v1:\n",
        "    return v1\n",
        "  else:\n",
        "    return x\n",
        "v2 = df2.lot_acres.quantile(0.95)\n",
        "def cut1(x):\n",
        "  if x > v2:\n",
        "    return v2\n",
        "  else:\n",
        "    return x\n",
        "df2[\"lot_acres\"] = df2.lot_acres.apply(cut)\n",
        "df2[\"lot_acres\"] = df2.lot_acres.apply(cut1)"
      ],
      "execution_count": 42,
      "outputs": []
    },
    {
      "cell_type": "code",
      "metadata": {
        "id": "FzpWlZ0fZv0k"
      },
      "source": [
        "b1 = df.bedrooms.quantile(0.05)\n",
        "def bed(x):\n",
        "  if x < b1:\n",
        "    return b1\n",
        "  else:\n",
        "    return x\n",
        "df[\"bedrooms\"] = df.bedrooms.apply(bed)\n",
        "b2 = df.bedrooms.quantile(0.95)\n",
        "def bed1(x):\n",
        "  if x > b2:\n",
        "    return b2\n",
        "  else:\n",
        "    return x\n",
        "df[\"bedrooms\"] = df.bedrooms.apply(bed)\n",
        "df[\"bedrooms\"] = df.bedrooms.apply(bed1)"
      ],
      "execution_count": 43,
      "outputs": []
    },
    {
      "cell_type": "code",
      "metadata": {
        "id": "Gt84F2gAaEZ7"
      },
      "source": [
        "c1 = df.bathrooms.quantile(0.05)\n",
        "def bath(x):\n",
        "  if x < c1:\n",
        "    return c1\n",
        "  else:\n",
        "    return x\n",
        "c2 = df.bathrooms.quantile(0.95)\n",
        "def bath1(x):\n",
        "  if x > c2:\n",
        "    return c2\n",
        "  else:\n",
        "    return x\n",
        "df[\"bathrooms\"] = df.bathrooms.apply(bath)\n",
        "df[\"bathrooms\"] = df.bathrooms.apply(bath1)"
      ],
      "execution_count": 44,
      "outputs": []
    },
    {
      "cell_type": "code",
      "metadata": {
        "colab": {
          "base_uri": "https://localhost:8080/",
          "height": 407
        },
        "id": "r_WWLvBVtk2D",
        "outputId": "b88b5b84-422d-440a-b2b5-15fb7efe459b"
      },
      "source": [
        "df2"
      ],
      "execution_count": 45,
      "outputs": [
        {
          "output_type": "execute_result",
          "data": {
            "text/html": [
              "<div>\n",
              "<style scoped>\n",
              "    .dataframe tbody tr th:only-of-type {\n",
              "        vertical-align: middle;\n",
              "    }\n",
              "\n",
              "    .dataframe tbody tr th {\n",
              "        vertical-align: top;\n",
              "    }\n",
              "\n",
              "    .dataframe thead th {\n",
              "        text-align: right;\n",
              "    }\n",
              "</style>\n",
              "<table border=\"1\" class=\"dataframe\">\n",
              "  <thead>\n",
              "    <tr style=\"text-align: right;\">\n",
              "      <th></th>\n",
              "      <th>sold_price</th>\n",
              "      <th>distances</th>\n",
              "      <th>bedrooms</th>\n",
              "      <th>bathrooms</th>\n",
              "      <th>sqrt_ft</th>\n",
              "      <th>lot_acres</th>\n",
              "      <th>year_built</th>\n",
              "      <th>zipcode</th>\n",
              "      <th>garage</th>\n",
              "    </tr>\n",
              "  </thead>\n",
              "  <tbody>\n",
              "    <tr>\n",
              "      <th>0</th>\n",
              "      <td>0.240372</td>\n",
              "      <td>51</td>\n",
              "      <td>0.342857</td>\n",
              "      <td>0.277778</td>\n",
              "      <td>5640.100000</td>\n",
              "      <td>5.8605</td>\n",
              "      <td>0.029718</td>\n",
              "      <td>0.797513</td>\n",
              "      <td>0.066667</td>\n",
              "    </tr>\n",
              "    <tr>\n",
              "      <th>1</th>\n",
              "      <td>0.240372</td>\n",
              "      <td>41</td>\n",
              "      <td>0.028571</td>\n",
              "      <td>0.055556</td>\n",
              "      <td>5640.100000</td>\n",
              "      <td>5.8605</td>\n",
              "      <td>0.010896</td>\n",
              "      <td>0.806394</td>\n",
              "      <td>0.066667</td>\n",
              "    </tr>\n",
              "    <tr>\n",
              "      <th>2</th>\n",
              "      <td>0.240372</td>\n",
              "      <td>41</td>\n",
              "      <td>0.028571</td>\n",
              "      <td>0.083333</td>\n",
              "      <td>3709.263559</td>\n",
              "      <td>5.8605</td>\n",
              "      <td>0.010896</td>\n",
              "      <td>0.806394</td>\n",
              "      <td>0.066667</td>\n",
              "    </tr>\n",
              "    <tr>\n",
              "      <th>3</th>\n",
              "      <td>0.240372</td>\n",
              "      <td>31</td>\n",
              "      <td>0.171429</td>\n",
              "      <td>0.138889</td>\n",
              "      <td>5640.100000</td>\n",
              "      <td>5.8605</td>\n",
              "      <td>0.029718</td>\n",
              "      <td>0.806394</td>\n",
              "      <td>0.133333</td>\n",
              "    </tr>\n",
              "    <tr>\n",
              "      <th>4</th>\n",
              "      <td>0.240372</td>\n",
              "      <td>11</td>\n",
              "      <td>0.085714</td>\n",
              "      <td>0.166667</td>\n",
              "      <td>5640.100000</td>\n",
              "      <td>3.2100</td>\n",
              "      <td>0.011887</td>\n",
              "      <td>0.991119</td>\n",
              "      <td>0.100000</td>\n",
              "    </tr>\n",
              "    <tr>\n",
              "      <th>...</th>\n",
              "      <td>...</td>\n",
              "      <td>...</td>\n",
              "      <td>...</td>\n",
              "      <td>...</td>\n",
              "      <td>...</td>\n",
              "      <td>...</td>\n",
              "      <td>...</td>\n",
              "      <td>...</td>\n",
              "      <td>...</td>\n",
              "    </tr>\n",
              "    <tr>\n",
              "      <th>4995</th>\n",
              "      <td>0.097415</td>\n",
              "      <td>31</td>\n",
              "      <td>0.114286</td>\n",
              "      <td>0.083333</td>\n",
              "      <td>3601.000000</td>\n",
              "      <td>4.9800</td>\n",
              "      <td>0.006934</td>\n",
              "      <td>0.797513</td>\n",
              "      <td>0.100000</td>\n",
              "    </tr>\n",
              "    <tr>\n",
              "      <th>4996</th>\n",
              "      <td>0.179702</td>\n",
              "      <td>11</td>\n",
              "      <td>0.085714</td>\n",
              "      <td>0.083333</td>\n",
              "      <td>2485.650000</td>\n",
              "      <td>1.4200</td>\n",
              "      <td>0.014364</td>\n",
              "      <td>0.991119</td>\n",
              "      <td>0.100000</td>\n",
              "    </tr>\n",
              "    <tr>\n",
              "      <th>4997</th>\n",
              "      <td>0.205707</td>\n",
              "      <td>31</td>\n",
              "      <td>0.057143</td>\n",
              "      <td>0.055556</td>\n",
              "      <td>2485.650000</td>\n",
              "      <td>5.8605</td>\n",
              "      <td>0.024765</td>\n",
              "      <td>0.797513</td>\n",
              "      <td>0.066667</td>\n",
              "    </tr>\n",
              "    <tr>\n",
              "      <th>4998</th>\n",
              "      <td>0.104027</td>\n",
              "      <td>11</td>\n",
              "      <td>0.085714</td>\n",
              "      <td>0.111111</td>\n",
              "      <td>3724.000000</td>\n",
              "      <td>1.0100</td>\n",
              "      <td>0.004953</td>\n",
              "      <td>0.982238</td>\n",
              "      <td>0.100000</td>\n",
              "    </tr>\n",
              "    <tr>\n",
              "      <th>4999</th>\n",
              "      <td>0.097415</td>\n",
              "      <td>51</td>\n",
              "      <td>0.085714</td>\n",
              "      <td>0.111111</td>\n",
              "      <td>4317.000000</td>\n",
              "      <td>4.1600</td>\n",
              "      <td>0.015354</td>\n",
              "      <td>0.797513</td>\n",
              "      <td>0.066667</td>\n",
              "    </tr>\n",
              "  </tbody>\n",
              "</table>\n",
              "<p>4954 rows × 9 columns</p>\n",
              "</div>"
            ],
            "text/plain": [
              "      sold_price  distances  bedrooms  ...  year_built   zipcode    garage\n",
              "0       0.240372         51  0.342857  ...    0.029718  0.797513  0.066667\n",
              "1       0.240372         41  0.028571  ...    0.010896  0.806394  0.066667\n",
              "2       0.240372         41  0.028571  ...    0.010896  0.806394  0.066667\n",
              "3       0.240372         31  0.171429  ...    0.029718  0.806394  0.133333\n",
              "4       0.240372         11  0.085714  ...    0.011887  0.991119  0.100000\n",
              "...          ...        ...       ...  ...         ...       ...       ...\n",
              "4995    0.097415         31  0.114286  ...    0.006934  0.797513  0.100000\n",
              "4996    0.179702         11  0.085714  ...    0.014364  0.991119  0.100000\n",
              "4997    0.205707         31  0.057143  ...    0.024765  0.797513  0.066667\n",
              "4998    0.104027         11  0.085714  ...    0.004953  0.982238  0.100000\n",
              "4999    0.097415         51  0.085714  ...    0.015354  0.797513  0.066667\n",
              "\n",
              "[4954 rows x 9 columns]"
            ]
          },
          "metadata": {
            "tags": []
          },
          "execution_count": 45
        }
      ]
    },
    {
      "cell_type": "code",
      "metadata": {
        "colab": {
          "base_uri": "https://localhost:8080/"
        },
        "id": "mlbJgbNN8Wmn",
        "outputId": "dcc95bdc-efed-4477-cd8d-8548ee5bde3b"
      },
      "source": [
        "df2.dtypes"
      ],
      "execution_count": 46,
      "outputs": [
        {
          "output_type": "execute_result",
          "data": {
            "text/plain": [
              "sold_price    float64\n",
              "distances       int64\n",
              "bedrooms      float64\n",
              "bathrooms     float64\n",
              "sqrt_ft       float64\n",
              "lot_acres     float64\n",
              "year_built    float64\n",
              "zipcode       float64\n",
              "garage        float64\n",
              "dtype: object"
            ]
          },
          "metadata": {
            "tags": []
          },
          "execution_count": 46
        }
      ]
    },
    {
      "cell_type": "code",
      "metadata": {
        "id": "B5Ktmh5_qBi6"
      },
      "source": [
        "df2['sqrt_ft'] = (df2['sqrt_ft']-df2['sqrt_ft'].min())/(df2['sqrt_ft'].max()-df2['sqrt_ft'].min())\n",
        "df2['lot_acres'] = (df2['lot_acres']-df2['lot_acres'].min())/(df2['lot_acres'].max()-df2['lot_acres'].min())\n",
        "#df2['distances'] = (df2['distances']-df2['distances'].min())/(df2['distances'].max()-df2['distances'].min())\n",
        "df2['lot_acres'] = np.log1p(df2['lot_acres'])\n",
        "df2['sqrt_ft'] = np.log1p(df2['sqrt_ft'])\n",
        "df2['bedrooms'] = np.log1p(df2['bedrooms'])\n",
        "# df2['distances'] = np.log1p(df2['distances'])\n",
        "df2['distances'] = df['distances']\n",
        "df2['year_built'] = np.log1p(df2['year_built'])\n",
        "df2['garage'] = np.log1p(df2['garage'])"
      ],
      "execution_count": 47,
      "outputs": []
    },
    {
      "cell_type": "code",
      "metadata": {
        "colab": {
          "base_uri": "https://localhost:8080/"
        },
        "id": "899bb4xq858_",
        "outputId": "6add7c66-1d14-4bd2-f4af-8d4159d02c51"
      },
      "source": [
        "df2.distances.value_counts()"
      ],
      "execution_count": 48,
      "outputs": [
        {
          "output_type": "execute_result",
          "data": {
            "text/plain": [
              "11    4337\n",
              "21     403\n",
              "31      99\n",
              "41      96\n",
              "51      18\n",
              "1        1\n",
              "Name: distances, dtype: int64"
            ]
          },
          "metadata": {
            "tags": []
          },
          "execution_count": 48
        }
      ]
    },
    {
      "cell_type": "code",
      "metadata": {
        "id": "XvXXUrKP9eHJ"
      },
      "source": [
        "df['11'] = df.loc[df['distances'] == 11, 'distances']"
      ],
      "execution_count": 49,
      "outputs": []
    },
    {
      "cell_type": "code",
      "metadata": {
        "colab": {
          "base_uri": "https://localhost:8080/"
        },
        "id": "8phF2Lo499J4",
        "outputId": "9e0164b6-4395-44ce-a75e-d2b62e752e37"
      },
      "source": [
        "df.loc[df['bedrooms'] == 11, 'distances']\n",
        "df.loc[df['bathrooms'] == 11, 'distances']\n",
        "df.loc[df['sold_price'] == 11, 'distances']"
      ],
      "execution_count": 50,
      "outputs": [
        {
          "output_type": "execute_result",
          "data": {
            "text/plain": [
              "Series([], Name: distances, dtype: int64)"
            ]
          },
          "metadata": {
            "tags": []
          },
          "execution_count": 50
        }
      ]
    },
    {
      "cell_type": "code",
      "metadata": {
        "colab": {
          "base_uri": "https://localhost:8080/"
        },
        "id": "LGWrl1mV9nbX",
        "outputId": "d4fe2cbd-da44-4e60-a6a2-502de9fc6743"
      },
      "source": [
        "df['11'].dropna()"
      ],
      "execution_count": 51,
      "outputs": [
        {
          "output_type": "execute_result",
          "data": {
            "text/plain": [
              "4       11.0\n",
              "5       11.0\n",
              "6       11.0\n",
              "7       11.0\n",
              "8       11.0\n",
              "        ... \n",
              "4990    11.0\n",
              "4993    11.0\n",
              "4994    11.0\n",
              "4996    11.0\n",
              "4998    11.0\n",
              "Name: 11, Length: 4337, dtype: float64"
            ]
          },
          "metadata": {
            "tags": []
          },
          "execution_count": 51
        }
      ]
    },
    {
      "cell_type": "code",
      "metadata": {
        "colab": {
          "base_uri": "https://localhost:8080/",
          "height": 407
        },
        "id": "Ipm5sQp7tIHG",
        "outputId": "fd819028-2e57-4c57-f141-ac24213d9305"
      },
      "source": [
        "df2"
      ],
      "execution_count": 52,
      "outputs": [
        {
          "output_type": "execute_result",
          "data": {
            "text/html": [
              "<div>\n",
              "<style scoped>\n",
              "    .dataframe tbody tr th:only-of-type {\n",
              "        vertical-align: middle;\n",
              "    }\n",
              "\n",
              "    .dataframe tbody tr th {\n",
              "        vertical-align: top;\n",
              "    }\n",
              "\n",
              "    .dataframe thead th {\n",
              "        text-align: right;\n",
              "    }\n",
              "</style>\n",
              "<table border=\"1\" class=\"dataframe\">\n",
              "  <thead>\n",
              "    <tr style=\"text-align: right;\">\n",
              "      <th></th>\n",
              "      <th>sold_price</th>\n",
              "      <th>distances</th>\n",
              "      <th>bedrooms</th>\n",
              "      <th>bathrooms</th>\n",
              "      <th>sqrt_ft</th>\n",
              "      <th>lot_acres</th>\n",
              "      <th>year_built</th>\n",
              "      <th>zipcode</th>\n",
              "      <th>garage</th>\n",
              "    </tr>\n",
              "  </thead>\n",
              "  <tbody>\n",
              "    <tr>\n",
              "      <th>0</th>\n",
              "      <td>0.240372</td>\n",
              "      <td>51</td>\n",
              "      <td>0.294800</td>\n",
              "      <td>0.277778</td>\n",
              "      <td>0.693147</td>\n",
              "      <td>0.693147</td>\n",
              "      <td>0.029285</td>\n",
              "      <td>0.797513</td>\n",
              "      <td>0.064539</td>\n",
              "    </tr>\n",
              "    <tr>\n",
              "      <th>1</th>\n",
              "      <td>0.240372</td>\n",
              "      <td>41</td>\n",
              "      <td>0.028171</td>\n",
              "      <td>0.055556</td>\n",
              "      <td>0.693147</td>\n",
              "      <td>0.693147</td>\n",
              "      <td>0.010838</td>\n",
              "      <td>0.806394</td>\n",
              "      <td>0.064539</td>\n",
              "    </tr>\n",
              "    <tr>\n",
              "      <th>2</th>\n",
              "      <td>0.240372</td>\n",
              "      <td>41</td>\n",
              "      <td>0.028171</td>\n",
              "      <td>0.083333</td>\n",
              "      <td>0.327792</td>\n",
              "      <td>0.693147</td>\n",
              "      <td>0.010838</td>\n",
              "      <td>0.806394</td>\n",
              "      <td>0.064539</td>\n",
              "    </tr>\n",
              "    <tr>\n",
              "      <th>3</th>\n",
              "      <td>0.240372</td>\n",
              "      <td>31</td>\n",
              "      <td>0.158224</td>\n",
              "      <td>0.138889</td>\n",
              "      <td>0.693147</td>\n",
              "      <td>0.693147</td>\n",
              "      <td>0.029285</td>\n",
              "      <td>0.806394</td>\n",
              "      <td>0.125163</td>\n",
              "    </tr>\n",
              "    <tr>\n",
              "      <th>4</th>\n",
              "      <td>0.240372</td>\n",
              "      <td>11</td>\n",
              "      <td>0.082238</td>\n",
              "      <td>0.166667</td>\n",
              "      <td>0.693147</td>\n",
              "      <td>0.426414</td>\n",
              "      <td>0.011817</td>\n",
              "      <td>0.991119</td>\n",
              "      <td>0.095310</td>\n",
              "    </tr>\n",
              "    <tr>\n",
              "      <th>...</th>\n",
              "      <td>...</td>\n",
              "      <td>...</td>\n",
              "      <td>...</td>\n",
              "      <td>...</td>\n",
              "      <td>...</td>\n",
              "      <td>...</td>\n",
              "      <td>...</td>\n",
              "      <td>...</td>\n",
              "      <td>...</td>\n",
              "    </tr>\n",
              "    <tr>\n",
              "      <th>4995</th>\n",
              "      <td>0.097415</td>\n",
              "      <td>31</td>\n",
              "      <td>0.108214</td>\n",
              "      <td>0.083333</td>\n",
              "      <td>0.302753</td>\n",
              "      <td>0.612180</td>\n",
              "      <td>0.006910</td>\n",
              "      <td>0.797513</td>\n",
              "      <td>0.095310</td>\n",
              "    </tr>\n",
              "    <tr>\n",
              "      <th>4996</th>\n",
              "      <td>0.179702</td>\n",
              "      <td>11</td>\n",
              "      <td>0.082238</td>\n",
              "      <td>0.083333</td>\n",
              "      <td>0.000000</td>\n",
              "      <td>0.195179</td>\n",
              "      <td>0.014261</td>\n",
              "      <td>0.991119</td>\n",
              "      <td>0.095310</td>\n",
              "    </tr>\n",
              "    <tr>\n",
              "      <th>4997</th>\n",
              "      <td>0.205707</td>\n",
              "      <td>31</td>\n",
              "      <td>0.055570</td>\n",
              "      <td>0.055556</td>\n",
              "      <td>0.000000</td>\n",
              "      <td>0.693147</td>\n",
              "      <td>0.024463</td>\n",
              "      <td>0.797513</td>\n",
              "      <td>0.064539</td>\n",
              "    </tr>\n",
              "    <tr>\n",
              "      <th>4998</th>\n",
              "      <td>0.104027</td>\n",
              "      <td>11</td>\n",
              "      <td>0.082238</td>\n",
              "      <td>0.111111</td>\n",
              "      <td>0.331153</td>\n",
              "      <td>0.133741</td>\n",
              "      <td>0.004941</td>\n",
              "      <td>0.982238</td>\n",
              "      <td>0.095310</td>\n",
              "    </tr>\n",
              "    <tr>\n",
              "      <th>4999</th>\n",
              "      <td>0.097415</td>\n",
              "      <td>51</td>\n",
              "      <td>0.082238</td>\n",
              "      <td>0.111111</td>\n",
              "      <td>0.457780</td>\n",
              "      <td>0.530384</td>\n",
              "      <td>0.015237</td>\n",
              "      <td>0.797513</td>\n",
              "      <td>0.064539</td>\n",
              "    </tr>\n",
              "  </tbody>\n",
              "</table>\n",
              "<p>4954 rows × 9 columns</p>\n",
              "</div>"
            ],
            "text/plain": [
              "      sold_price  distances  bedrooms  ...  year_built   zipcode    garage\n",
              "0       0.240372         51  0.294800  ...    0.029285  0.797513  0.064539\n",
              "1       0.240372         41  0.028171  ...    0.010838  0.806394  0.064539\n",
              "2       0.240372         41  0.028171  ...    0.010838  0.806394  0.064539\n",
              "3       0.240372         31  0.158224  ...    0.029285  0.806394  0.125163\n",
              "4       0.240372         11  0.082238  ...    0.011817  0.991119  0.095310\n",
              "...          ...        ...       ...  ...         ...       ...       ...\n",
              "4995    0.097415         31  0.108214  ...    0.006910  0.797513  0.095310\n",
              "4996    0.179702         11  0.082238  ...    0.014261  0.991119  0.095310\n",
              "4997    0.205707         31  0.055570  ...    0.024463  0.797513  0.064539\n",
              "4998    0.104027         11  0.082238  ...    0.004941  0.982238  0.095310\n",
              "4999    0.097415         51  0.082238  ...    0.015237  0.797513  0.064539\n",
              "\n",
              "[4954 rows x 9 columns]"
            ]
          },
          "metadata": {
            "tags": []
          },
          "execution_count": 52
        }
      ]
    },
    {
      "cell_type": "code",
      "metadata": {
        "id": "fG0n5M7V94kD"
      },
      "source": [
        ""
      ],
      "execution_count": 52,
      "outputs": []
    },
    {
      "cell_type": "code",
      "metadata": {
        "id": "qCQPI_6FqthO"
      },
      "source": [
        "X_train = df2.iloc[:3963,1:].to_numpy()\n",
        "\n",
        "y_train = df2.iloc[:3963,0].to_numpy()\n",
        "X_test =  df2.iloc[3963:4458,1:].to_numpy()\n",
        "y_test = df2.iloc[3963:4458,0].to_numpy()\n",
        "X_validate =  df2.iloc[4458:4954,1:].to_numpy()\n",
        "y_validate = df2.iloc[4458:4954,0].to_numpy()"
      ],
      "execution_count": 53,
      "outputs": []
    },
    {
      "cell_type": "code",
      "metadata": {
        "colab": {
          "base_uri": "https://localhost:8080/"
        },
        "id": "jCh-73-0s1Yk",
        "outputId": "c643c75b-efd8-42c7-e9ff-2bddecc79b37"
      },
      "source": [
        "X_train"
      ],
      "execution_count": 54,
      "outputs": [
        {
          "output_type": "execute_result",
          "data": {
            "text/plain": [
              "array([[5.10000000e+01, 2.94799540e-01, 2.77777778e-01, ...,\n",
              "        2.92846695e-02, 7.97513321e-01, 6.45385211e-02],\n",
              "       [4.10000000e+01, 2.81708770e-02, 5.55555556e-02, ...,\n",
              "        1.08375445e-02, 8.06394316e-01, 6.45385211e-02],\n",
              "       [4.10000000e+01, 2.81708770e-02, 8.33333333e-02, ...,\n",
              "        1.08375445e-02, 8.06394316e-01, 6.45385211e-02],\n",
              "       ...,\n",
              "       [1.10000000e+01, 2.81708770e-02, 8.33333333e-02, ...,\n",
              "        1.48478127e-03, 1.00000000e+00, 9.53101798e-02],\n",
              "       [1.10000000e+01, 8.22380982e-02, 1.11111111e-01, ...,\n",
              "        7.89347956e-03, 9.09413854e-01, 9.53101798e-02],\n",
              "       [1.10000000e+01, 8.22380982e-02, 8.33333333e-02, ...,\n",
              "        2.92846695e-02, 9.34280639e-01, 6.45385211e-02]])"
            ]
          },
          "metadata": {
            "tags": []
          },
          "execution_count": 54
        }
      ]
    },
    {
      "cell_type": "code",
      "metadata": {
        "colab": {
          "base_uri": "https://localhost:8080/",
          "height": 551
        },
        "id": "fhBbUcgXTEwR",
        "outputId": "ecbef221-87c0-4ca2-ce17-f26617de51a4"
      },
      "source": [
        "#ax =  df.scatter(x = 'latitude', y = 'longitude',style='o',c =A,figsize=(20, 20))\n",
        "plt.figure(figsize=(20, 10), dpi=80)\n",
        "plt.scatter(x = df['latitude'], y = df['longitude'],c = list(df['distances']), alpha = 0.5, s = 10)"
      ],
      "execution_count": 55,
      "outputs": [
        {
          "output_type": "execute_result",
          "data": {
            "text/plain": [
              "<matplotlib.collections.PathCollection at 0x7f7280466e10>"
            ]
          },
          "metadata": {
            "tags": []
          },
          "execution_count": 55
        },
        {
          "output_type": "display_data",
          "data": {
            "image/png": "[encoded data removed]",
            "text/plain": [
              "<Figure size 1600x800 with 1 Axes>"
            ]
          },
          "metadata": {
            "tags": []
          }
        }
      ]
    },
    {
      "cell_type": "code",
      "metadata": {
        "id": "JZXsCKws2QxQ"
      },
      "source": [
        "class KNNClassifier():\n",
        "  def fit(self, X, y):\n",
        "    self.X = X\n",
        "    self.y = y\n",
        "  def predict(self, X, K, epsilon = 1e-3):\n",
        "    N = len(X)\n",
        "    y_hat = np.zeros(N)\n",
        "\n",
        "    for i in range(N):\n",
        "      dist2 = np.sum((self.X-X[i])**2, axis = 1)\n",
        "      idxt = np.argsort(dist2)[:K]\n",
        "      gamma_k = 1/(np.sqrt(dist2[idxt])+epsilon)\n",
        "      y_hat[i] = np.bincount(self.y[idxt], weights = gamma_k).argmax()\n",
        "\n",
        "    return y_hat"
      ],
      "execution_count": 56,
      "outputs": []
    },
    {
      "cell_type": "code",
      "metadata": {
        "colab": {
          "base_uri": "https://localhost:8080/"
        },
        "id": "fpO4bA6r2jpL",
        "outputId": "235dcb16-d056-47ba-d94f-a62e2fc3d1e6"
      },
      "source": [
        "import time\n",
        "start_time = time.time()\n",
        "knn = KNNClassifier()\n",
        "knn.fit(X1_train,y1_train)\n",
        "print(\"--- %s seconds ---\" % (time.time() - start_time))"
      ],
      "execution_count": 57,
      "outputs": [
        {
          "output_type": "stream",
          "text": [
            "--- 0.00010752677917480469 seconds ---\n"
          ],
          "name": "stdout"
        }
      ]
    },
    {
      "cell_type": "code",
      "metadata": {
        "colab": {
          "base_uri": "https://localhost:8080/"
        },
        "id": "FbBMQ5lv225B",
        "outputId": "bfe3f57d-233c-4d4b-e1d7-463ba87b269f"
      },
      "source": [
        "start_time = time.time()\n",
        "y1_hat = knn.predict(X1_validate,3)\n",
        "print(\"--- %s seconds ---\" % (time.time() - start_time))"
      ],
      "execution_count": 58,
      "outputs": [
        {
          "output_type": "stream",
          "text": [
            "--- 0.18754196166992188 seconds ---\n"
          ],
          "name": "stdout"
        }
      ]
    },
    {
      "cell_type": "code",
      "metadata": {
        "id": "BgMv-7TzGkuM"
      },
      "source": [
        "\n",
        "def accuracyKNN(y_validate,y_hat):\n",
        "    return np.mean(y1_validate == y1_hat)"
      ],
      "execution_count": 59,
      "outputs": []
    },
    {
      "cell_type": "code",
      "metadata": {
        "colab": {
          "base_uri": "https://localhost:8080/"
        },
        "id": "JHXafMzHGt2w",
        "outputId": "025203e3-f3da-4cac-db66-824aa33d4895"
      },
      "source": [
        "print(accuracyKNN(y1_validate ,y1_hat))\n"
      ],
      "execution_count": 60,
      "outputs": [
        {
          "output_type": "stream",
          "text": [
            "0.9879032258064516\n"
          ],
          "name": "stdout"
        }
      ]
    },
    {
      "cell_type": "code",
      "metadata": {
        "id": "KMA-LJ1znycR"
      },
      "source": [
        "class KNNRegressor():\n",
        "\n",
        "  def fit(self,X,y):\n",
        "    self.X = X\n",
        "    self.y = y\n",
        "  def predict(self,X,K, epsilon = 1e-3):\n",
        "    N = len(X)\n",
        "    y_hat = np.zeros(N) #empty y_hat same size as X\n",
        "\n",
        "    #count everything within a certain distance\n",
        "    for i in range(N):\n",
        "      dist2 = np.sum((self.X - X[i])**2, axis = 1)\n",
        "      idxt = np.argsort(dist2)[:K]\n",
        "      gamma_k = np.exp(-dist2[idxt])/np.exp(-dist2[idxt]).sum() #normalized set of distance\n",
        "      y_hat[i] = gamma_k.dot(self.y[idxt])\n",
        "      \n",
        "    return y_hat\n"
      ],
      "execution_count": 61,
      "outputs": []
    },
    {
      "cell_type": "code",
      "metadata": {
        "id": "YPVUuWaASJjH"
      },
      "source": [
        "knn = KNNRegressor()"
      ],
      "execution_count": 62,
      "outputs": []
    },
    {
      "cell_type": "code",
      "metadata": {
        "id": "waTMpH2mSa71"
      },
      "source": [
        "knn.fit(X_train,y_train)"
      ],
      "execution_count": 63,
      "outputs": []
    },
    {
      "cell_type": "code",
      "metadata": {
        "colab": {
          "base_uri": "https://localhost:8080/",
          "height": 54
        },
        "id": "u1txXzqeSeAe",
        "outputId": "50f4ef14-55e1-41ee-f207-8399feea9534"
      },
      "source": [
        "y_hat = knn.predict(X_test,1000, epsilon = 1e-5) #X1 = Test set (effectively)\n",
        "#y_hat2 = knn.predict(X1,30, epsilon = 1e-3) #Larger K smoother curve smaller K risk overfitting\n",
        "plt.figure(figsize=(12, 6))\n",
        "# sns.swarmplot(X_test[:,0],y_hat)\n",
        "# plt.title('Location versus Price')\n",
        "# plt.xlim([10.0, 60.0])\n",
        "#plt.ylim([-112,-110])\n",
        "# plt.plot(X_train,y_hat, color = \"#FF0070\")\n",
        "# plt.plot(X_train,y_hat2, color = \"#00FF00\")"
      ],
      "execution_count": 64,
      "outputs": [
        {
          "output_type": "execute_result",
          "data": {
            "text/plain": [
              "<Figure size 864x432 with 0 Axes>"
            ]
          },
          "metadata": {
            "tags": []
          },
          "execution_count": 64
        },
        {
          "output_type": "display_data",
          "data": {
            "text/plain": [
              "<Figure size 864x432 with 0 Axes>"
            ]
          },
          "metadata": {
            "tags": []
          }
        }
      ]
    },
    {
      "cell_type": "code",
      "metadata": {
        "id": "QGc3Sejr7n-m"
      },
      "source": [
        "def OLS(Y,Y_hat,N):\n",
        "  return (1/(2*N))*np.sum((Y-Y_hat)**2)\n",
        "def R2(Y,Y_hat):\n",
        "  return (1 - (np.sum((Y-Y_hat)**2)/np.sum((Y-np.mean(Y))**2)))"
      ],
      "execution_count": 65,
      "outputs": []
    },
    {
      "cell_type": "code",
      "metadata": {
        "colab": {
          "base_uri": "https://localhost:8080/"
        },
        "id": "hV3PGhOe7rVJ",
        "outputId": "c12e32f1-8e20-4fc9-c7f4-ee757bf441fc"
      },
      "source": [
        "R2(y_test, y_hat)"
      ],
      "execution_count": 66,
      "outputs": [
        {
          "output_type": "execute_result",
          "data": {
            "text/plain": [
              "-0.6662926023231615"
            ]
          },
          "metadata": {
            "tags": []
          },
          "execution_count": 66
        }
      ]
    },
    {
      "cell_type": "code",
      "metadata": {
        "id": "Rq2TeqpEt80W"
      },
      "source": [
        "class SimpleLinearReg():\n",
        "    \n",
        "    def fit(self,X,y):\n",
        "        self.y=y\n",
        "        self.d=np.mean(X**2)-np.mean(X)**2\n",
        "        self.w0=(np.mean(y)*np.mean(X**2)-np.mean(X)*np.mean(X*y))/self.d\n",
        "        self.w1=(np.mean(X*y)-np.mean(X)*np.mean(y))/(np.mean(X**2)-np.mean(X)**2)    \n",
        "    def predict(self,X,show=0):\n",
        "        y_hat=self.w0+self.w1*X\n",
        "        if show:\n",
        "            plt.figure()\n",
        "            plt.scatter(X,self.y,s=8)\n",
        "            plt.plot(X,y_hat,color='#FF0070')\n",
        "            \n",
        "        return y_hat"
      ],
      "execution_count": null,
      "outputs": []
    },
    {
      "cell_type": "code",
      "metadata": {
        "id": "IDqN-kGb2UgP"
      },
      "source": [
        "slr = SimpleLinearReg()"
      ],
      "execution_count": null,
      "outputs": []
    },
    {
      "cell_type": "code",
      "metadata": {
        "colab": {
          "base_uri": "https://localhost:8080/",
          "height": 298
        },
        "id": "GwwoToW52b4z",
        "outputId": "a1fc74c2-bd48-4c2b-fb44-36db1ceb17d1"
      },
      "source": [
        "slr.fit(X_train,y_train)"
      ],
      "execution_count": null,
      "outputs": [
        {
          "output_type": "error",
          "ename": "ValueError",
          "evalue": "ignored",
          "traceback": [
            "\u001b[0;31m---------------------------------------------------------------------------\u001b[0m",
            "\u001b[0;31mValueError\u001b[0m                                Traceback (most recent call last)",
            "\u001b[0;32m<ipython-input-119-1b531d43ff0f>\u001b[0m in \u001b[0;36m<module>\u001b[0;34m()\u001b[0m\n\u001b[0;32m----> 1\u001b[0;31m \u001b[0mslr\u001b[0m\u001b[0;34m.\u001b[0m\u001b[0mfit\u001b[0m\u001b[0;34m(\u001b[0m\u001b[0mX_train\u001b[0m\u001b[0;34m,\u001b[0m\u001b[0my_train\u001b[0m\u001b[0;34m)\u001b[0m\u001b[0;34m\u001b[0m\u001b[0;34m\u001b[0m\u001b[0m\n\u001b[0m",
            "\u001b[0;32m<ipython-input-117-4681a1770f6f>\u001b[0m in \u001b[0;36mfit\u001b[0;34m(self, X, y)\u001b[0m\n\u001b[1;32m      4\u001b[0m         \u001b[0mself\u001b[0m\u001b[0;34m.\u001b[0m\u001b[0my\u001b[0m\u001b[0;34m=\u001b[0m\u001b[0my\u001b[0m\u001b[0;34m\u001b[0m\u001b[0;34m\u001b[0m\u001b[0m\n\u001b[1;32m      5\u001b[0m         \u001b[0mself\u001b[0m\u001b[0;34m.\u001b[0m\u001b[0md\u001b[0m\u001b[0;34m=\u001b[0m\u001b[0mnp\u001b[0m\u001b[0;34m.\u001b[0m\u001b[0mmean\u001b[0m\u001b[0;34m(\u001b[0m\u001b[0mX\u001b[0m\u001b[0;34m**\u001b[0m\u001b[0;36m2\u001b[0m\u001b[0;34m)\u001b[0m\u001b[0;34m-\u001b[0m\u001b[0mnp\u001b[0m\u001b[0;34m.\u001b[0m\u001b[0mmean\u001b[0m\u001b[0;34m(\u001b[0m\u001b[0mX\u001b[0m\u001b[0;34m)\u001b[0m\u001b[0;34m**\u001b[0m\u001b[0;36m2\u001b[0m\u001b[0;34m\u001b[0m\u001b[0;34m\u001b[0m\u001b[0m\n\u001b[0;32m----> 6\u001b[0;31m         \u001b[0mself\u001b[0m\u001b[0;34m.\u001b[0m\u001b[0mw0\u001b[0m\u001b[0;34m=\u001b[0m\u001b[0;34m(\u001b[0m\u001b[0mnp\u001b[0m\u001b[0;34m.\u001b[0m\u001b[0mmean\u001b[0m\u001b[0;34m(\u001b[0m\u001b[0my\u001b[0m\u001b[0;34m)\u001b[0m\u001b[0;34m*\u001b[0m\u001b[0mnp\u001b[0m\u001b[0;34m.\u001b[0m\u001b[0mmean\u001b[0m\u001b[0;34m(\u001b[0m\u001b[0mX\u001b[0m\u001b[0;34m**\u001b[0m\u001b[0;36m2\u001b[0m\u001b[0;34m)\u001b[0m\u001b[0;34m-\u001b[0m\u001b[0mnp\u001b[0m\u001b[0;34m.\u001b[0m\u001b[0mmean\u001b[0m\u001b[0;34m(\u001b[0m\u001b[0mX\u001b[0m\u001b[0;34m)\u001b[0m\u001b[0;34m*\u001b[0m\u001b[0mnp\u001b[0m\u001b[0;34m.\u001b[0m\u001b[0mmean\u001b[0m\u001b[0;34m(\u001b[0m\u001b[0mX\u001b[0m\u001b[0;34m*\u001b[0m\u001b[0my\u001b[0m\u001b[0;34m)\u001b[0m\u001b[0;34m)\u001b[0m\u001b[0;34m/\u001b[0m\u001b[0mself\u001b[0m\u001b[0;34m.\u001b[0m\u001b[0md\u001b[0m\u001b[0;34m\u001b[0m\u001b[0;34m\u001b[0m\u001b[0m\n\u001b[0m\u001b[1;32m      7\u001b[0m         \u001b[0mself\u001b[0m\u001b[0;34m.\u001b[0m\u001b[0mw1\u001b[0m\u001b[0;34m=\u001b[0m\u001b[0;34m(\u001b[0m\u001b[0mnp\u001b[0m\u001b[0;34m.\u001b[0m\u001b[0mmean\u001b[0m\u001b[0;34m(\u001b[0m\u001b[0mX\u001b[0m\u001b[0;34m*\u001b[0m\u001b[0my\u001b[0m\u001b[0;34m)\u001b[0m\u001b[0;34m-\u001b[0m\u001b[0mnp\u001b[0m\u001b[0;34m.\u001b[0m\u001b[0mmean\u001b[0m\u001b[0;34m(\u001b[0m\u001b[0mX\u001b[0m\u001b[0;34m)\u001b[0m\u001b[0;34m*\u001b[0m\u001b[0mnp\u001b[0m\u001b[0;34m.\u001b[0m\u001b[0mmean\u001b[0m\u001b[0;34m(\u001b[0m\u001b[0my\u001b[0m\u001b[0;34m)\u001b[0m\u001b[0;34m)\u001b[0m\u001b[0;34m/\u001b[0m\u001b[0;34m(\u001b[0m\u001b[0mnp\u001b[0m\u001b[0;34m.\u001b[0m\u001b[0mmean\u001b[0m\u001b[0;34m(\u001b[0m\u001b[0mX\u001b[0m\u001b[0;34m**\u001b[0m\u001b[0;36m2\u001b[0m\u001b[0;34m)\u001b[0m\u001b[0;34m-\u001b[0m\u001b[0mnp\u001b[0m\u001b[0;34m.\u001b[0m\u001b[0mmean\u001b[0m\u001b[0;34m(\u001b[0m\u001b[0mX\u001b[0m\u001b[0;34m)\u001b[0m\u001b[0;34m**\u001b[0m\u001b[0;36m2\u001b[0m\u001b[0;34m)\u001b[0m\u001b[0;34m\u001b[0m\u001b[0;34m\u001b[0m\u001b[0m\n\u001b[1;32m      8\u001b[0m     \u001b[0;32mdef\u001b[0m \u001b[0mpredict\u001b[0m\u001b[0;34m(\u001b[0m\u001b[0mself\u001b[0m\u001b[0;34m,\u001b[0m\u001b[0mX\u001b[0m\u001b[0;34m,\u001b[0m\u001b[0mshow\u001b[0m\u001b[0;34m=\u001b[0m\u001b[0;36m0\u001b[0m\u001b[0;34m)\u001b[0m\u001b[0;34m:\u001b[0m\u001b[0;34m\u001b[0m\u001b[0;34m\u001b[0m\u001b[0m\n",
            "\u001b[0;31mValueError\u001b[0m: operands could not be broadcast together with shapes (3963,4) (3963,) "
          ]
        }
      ]
    },
    {
      "cell_type": "code",
      "metadata": {
        "id": "14a8dw4KS208"
      },
      "source": [
        "class OURLinearRegression():\n",
        "    \n",
        "    def fit(self, X, y, eta = 1e-3, epochs = 1e3, show_curve = False, lambd = 0, p = 1):\n",
        "        epochs = int(epochs)\n",
        "        N, D = X.shape\n",
        "        Y = y\n",
        "        \n",
        "        self.W = np.random.randn(D)\n",
        "        \n",
        "        J = np.zeros(epochs)\n",
        "        \n",
        "        for epoch in range(epochs):\n",
        "            Y_hat = self.predict(X)\n",
        "            J[epoch] = OLS(Y, Y_hat, N)  #(lambd/p*N)*np.linalg.norm(self.W, ord=p, keepdims=True)\n",
        "            self.W -= eta*(1/N)*(X.T@(Y_hat - Y)) # (1/N)*(lambd*np.abs(self.W)**(p-1)*np.sign(self.W)))\n",
        "                    \n",
        "         \n",
        "        if show_curve:\n",
        "            plt.figure()\n",
        "            plt.plot(J)\n",
        "            plt.xlabel(\"epochs\")\n",
        "            plt.ylabel(\"$\\mathcal{J}$\")\n",
        "            plt.title(\"Training Curve\")\n",
        "            plt.show()        \n",
        "    def predict(self, X):\n",
        "        return X @ self.W"
      ],
      "execution_count": 67,
      "outputs": []
    },
    {
      "cell_type": "code",
      "metadata": {
        "id": "PZiyy-rzWre_"
      },
      "source": [
        "OLR = OURLinearRegression()"
      ],
      "execution_count": 68,
      "outputs": []
    },
    {
      "cell_type": "code",
      "metadata": {
        "colab": {
          "base_uri": "https://localhost:8080/",
          "height": 262
        },
        "id": "14qZireXMylI",
        "outputId": "9baf8d94-ee10-4a9f-9f21-17d881ed65c1"
      },
      "source": [
        "y_hat = OLR.predict(X_test) #X1 = Test set (effectively)\n"
      ],
      "execution_count": 69,
      "outputs": [
        {
          "output_type": "error",
          "ename": "AttributeError",
          "evalue": "ignored",
          "traceback": [
            "\u001b[0;31m---------------------------------------------------------------------------\u001b[0m",
            "\u001b[0;31mAttributeError\u001b[0m                            Traceback (most recent call last)",
            "\u001b[0;32m<ipython-input-69-e122f6a3916f>\u001b[0m in \u001b[0;36m<module>\u001b[0;34m()\u001b[0m\n\u001b[0;32m----> 1\u001b[0;31m \u001b[0my_hat\u001b[0m \u001b[0;34m=\u001b[0m \u001b[0mOLR\u001b[0m\u001b[0;34m.\u001b[0m\u001b[0mpredict\u001b[0m\u001b[0;34m(\u001b[0m\u001b[0mX_test\u001b[0m\u001b[0;34m)\u001b[0m \u001b[0;31m#X1 = Test set (effectively)\u001b[0m\u001b[0;34m\u001b[0m\u001b[0;34m\u001b[0m\u001b[0m\n\u001b[0m",
            "\u001b[0;32m<ipython-input-67-fdd44da28cfb>\u001b[0m in \u001b[0;36mpredict\u001b[0;34m(self, X)\u001b[0m\n\u001b[1;32m     24\u001b[0m             \u001b[0mplt\u001b[0m\u001b[0;34m.\u001b[0m\u001b[0mshow\u001b[0m\u001b[0;34m(\u001b[0m\u001b[0;34m)\u001b[0m\u001b[0;34m\u001b[0m\u001b[0;34m\u001b[0m\u001b[0m\n\u001b[1;32m     25\u001b[0m     \u001b[0;32mdef\u001b[0m \u001b[0mpredict\u001b[0m\u001b[0;34m(\u001b[0m\u001b[0mself\u001b[0m\u001b[0;34m,\u001b[0m \u001b[0mX\u001b[0m\u001b[0;34m)\u001b[0m\u001b[0;34m:\u001b[0m\u001b[0;34m\u001b[0m\u001b[0;34m\u001b[0m\u001b[0m\n\u001b[0;32m---> 26\u001b[0;31m         \u001b[0;32mreturn\u001b[0m \u001b[0mX\u001b[0m \u001b[0;34m@\u001b[0m \u001b[0mself\u001b[0m\u001b[0;34m.\u001b[0m\u001b[0mW\u001b[0m\u001b[0;34m\u001b[0m\u001b[0;34m\u001b[0m\u001b[0m\n\u001b[0m",
            "\u001b[0;31mAttributeError\u001b[0m: 'OURLinearRegression' object has no attribute 'W'"
          ]
        }
      ]
    },
    {
      "cell_type": "code",
      "metadata": {
        "id": "AhuSLZ46M5ih",
        "colab": {
          "base_uri": "https://localhost:8080/"
        },
        "outputId": "c499f0d3-5caa-4e40-9379-d5b48a778572"
      },
      "source": [
        "R2(y_test, y_hat)"
      ],
      "execution_count": 70,
      "outputs": [
        {
          "output_type": "execute_result",
          "data": {
            "text/plain": [
              "-0.6662926023231615"
            ]
          },
          "metadata": {
            "tags": []
          },
          "execution_count": 70
        }
      ]
    },
    {
      "cell_type": "code",
      "metadata": {
        "colab": {
          "base_uri": "https://localhost:8080/",
          "height": 301
        },
        "id": "-mV7G0TvXxm2",
        "outputId": "632f048b-5683-4ab2-cc11-c578c62f83fd"
      },
      "source": [
        "OLR.fit(X_validate, y_validate, epochs = 1e2, eta = 1e-8, show_curve = True)"
      ],
      "execution_count": null,
      "outputs": [
        {
          "output_type": "display_data",
          "data": {
            "image/png": "[encoded data removed]",
            "text/plain": [
              "<Figure size 432x288 with 1 Axes>"
            ]
          },
          "metadata": {
            "tags": []
          }
        }
      ]
    },
    {
      "cell_type": "code",
      "metadata": {
        "id": "9gOxzX0hzwjb"
      },
      "source": [
        ""
      ],
      "execution_count": null,
      "outputs": []
    }
  ]
}