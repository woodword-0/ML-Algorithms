{
  "nbformat": 4,
  "nbformat_minor": 0,
  "metadata": {
    "colab": {
      "name": "LogisticReg.ipynb",
      "provenance": [],
      "collapsed_sections": [],
      "authorship_tag": "ABX9TyPMgIomxSgrTHxFFnTaIi2J",
      "include_colab_link": true
    },
    "kernelspec": {
      "name": "python3",
      "display_name": "Python 3"
    },
    "language_info": {
      "name": "python"
    }
  },
  "cells": [
    {
      "cell_type": "markdown",
      "metadata": {
        "id": "view-in-github",
        "colab_type": "text"
      },
      "source": [
        "<a href=\"https://colab.research.google.com/github/woodword-0/ML-Algorithms/blob/main/LogisticReg.ipynb\" target=\"_parent\"><img src=\"https://colab.research.google.com/assets/colab-badge.svg\" alt=\"Open In Colab\"/></a>"
      ]
    },
    {
      "cell_type": "code",
      "metadata": {
        "id": "SeyDHU4wQpxe"
      },
      "source": [
        "# data wrangling\n",
        "import numpy as np\n",
        "import pandas as pd\n",
        "import seaborn as sns\n",
        "import scipy as sp\n",
        "from pathlib import Path\n",
        "from scipy import ndimage\n",
        "from scipy import stats\n",
        "\n",
        "# dataviz\n",
        "import matplotlib.pyplot as plt"
      ],
      "execution_count": null,
      "outputs": []
    },
    {
      "cell_type": "code",
      "metadata": {
        "id": "6a7V8KoCSdWt"
      },
      "source": [
        "df = pd.read_csv('/content/diabetes.csv')"
      ],
      "execution_count": null,
      "outputs": []
    },
    {
      "cell_type": "code",
      "metadata": {
        "colab": {
          "base_uri": "https://localhost:8080/"
        },
        "id": "1KGP4TTepwx8",
        "outputId": "a3fe5f8e-ae83-42ec-84f3-5e6a790d4a13"
      },
      "source": [
        "df.shape"
      ],
      "execution_count": null,
      "outputs": [
        {
          "output_type": "execute_result",
          "data": {
            "text/plain": [
              "(768, 9)"
            ]
          },
          "metadata": {
            "tags": []
          },
          "execution_count": 21
        }
      ]
    },
    {
      "cell_type": "markdown",
      "metadata": {
        "id": "_vpv4ACcRA4d"
      },
      "source": [
        "Normalizing and Scaling\n"
      ]
    },
    {
      "cell_type": "code",
      "metadata": {
        "id": "a_ETHV7kQ8Il"
      },
      "source": [
        "df['Pregnancies'] = np.log1p(df['Pregnancies'])\n",
        "df['Glucose'] = np.log1p(df['Glucose'])\n",
        "df['BloodPressure'] = np.log1p(df['BloodPressure'])\n",
        "df['SkinThickness'] = np.log1p(df['SkinThickness'])\n",
        "df['Insulin'] = np.log1p(df['Insulin'])\n",
        "df['DiabetesPedigreeFunction'] = np.log(df['DiabetesPedigreeFunction'])\n",
        "df['Age'] = np.log(df['Age'])"
      ],
      "execution_count": null,
      "outputs": []
    },
    {
      "cell_type": "code",
      "metadata": {
        "id": "4lIMoCJ7RF22"
      },
      "source": [
        "P1 = df.Pregnancies.quantile(0.05)\n",
        "def Pb(x):\n",
        "  if x < P1:\n",
        "    return P1\n",
        "  else:\n",
        "    return x\n",
        "P2 = df.Pregnancies.quantile(0.95)\n",
        "def Pt(x):\n",
        "  if x > P2:\n",
        "    return P2\n",
        "  else:\n",
        "    return x\n",
        "df[\"Pregnancies\"] = df.Pregnancies.apply(Pb)\n",
        "df[\"Pregnancies\"] = df.Pregnancies.apply(Pt)\n",
        "\n",
        "G1 = df.Glucose.quantile(0.05)\n",
        "def Gb(x):\n",
        "  if x < G1:\n",
        "    return G1\n",
        "  else:\n",
        "    return x\n",
        "G2 = df.Glucose.quantile(0.95)\n",
        "def Gt(x):\n",
        "  if x > G2:\n",
        "    return G2\n",
        "  else:\n",
        "    return x\n",
        "df[\"Glucose\"] = df.Glucose.apply(Gb)\n",
        "df[\"Glucose\"] = df.Glucose.apply(Gt)"
      ],
      "execution_count": null,
      "outputs": []
    },
    {
      "cell_type": "code",
      "metadata": {
        "id": "1Dky7R31RJ-R"
      },
      "source": [
        "BP1 = df.BloodPressure.quantile(0.05)\n",
        "def BPb(x):\n",
        "  if x < BP1:\n",
        "    return BP1\n",
        "  else:\n",
        "    return x\n",
        "BP2 = df.BloodPressure.quantile(0.95)\n",
        "def BPt(x):\n",
        "  if x > BP2:\n",
        "    return BP2\n",
        "  else:\n",
        "    return x\n",
        "df[\"BloodPressure\"] = df.BloodPressure.apply(BPb)\n",
        "df[\"BloodPressure\"] = df.BloodPressure.apply(BPt)\n",
        "\n",
        "S1 = df.SkinThickness.quantile(0.05)\n",
        "def Sb(x):\n",
        "  if x < S1:\n",
        "    return S1\n",
        "  else:\n",
        "    return x\n",
        "S2 = df.SkinThickness.quantile(0.95)\n",
        "def St(x):\n",
        "  if x > S2:\n",
        "    return S2\n",
        "  else:\n",
        "    return x\n",
        "df[\"SkinThickness\"] = df.SkinThickness.apply(Sb)\n",
        "df[\"SkinThickness\"] = df.SkinThickness.apply(St)"
      ],
      "execution_count": null,
      "outputs": []
    },
    {
      "cell_type": "code",
      "metadata": {
        "id": "JxzYZcLLROWj"
      },
      "source": [
        "I1 = df.Insulin.quantile(0.05)\n",
        "def Ib(x):\n",
        "  if x < I1:\n",
        "    return I1\n",
        "  else:\n",
        "    return x\n",
        "I2 = df.Insulin.quantile(0.95)\n",
        "def It(x):\n",
        "  if x > I2:\n",
        "    return I2\n",
        "  else:\n",
        "    return x\n",
        "df[\"Insulin\"] = df.Insulin.apply(Ib)\n",
        "df[\"Insulin\"] = df.Insulin.apply(It)\n",
        "\n",
        "BM1 = df.BMI.quantile(0.05)\n",
        "def BMb(x):\n",
        "  if x < BM1:\n",
        "    return BM1\n",
        "  else:\n",
        "    return x\n",
        "BM2 = df.BMI.quantile(0.95)\n",
        "def BMt(x):\n",
        "  if x > BM2:\n",
        "    return BM2\n",
        "  else:\n",
        "    return x\n",
        "df[\"BMI\"] = df.BMI.apply(BMb)\n",
        "df[\"BMI\"] = df.BMI.apply(BMt)"
      ],
      "execution_count": null,
      "outputs": []
    },
    {
      "cell_type": "code",
      "metadata": {
        "id": "SXLkUaUURSUo"
      },
      "source": [
        "DPF1 = df.DiabetesPedigreeFunction.quantile(0.05)\n",
        "def DPFb(x):\n",
        "  if x < DPF1:\n",
        "    return DPF1\n",
        "  else:\n",
        "    return x\n",
        "DPF2 = df.DiabetesPedigreeFunction.quantile(0.95)\n",
        "def DPFt(x):\n",
        "  if x > DPF2:\n",
        "    return DPF2\n",
        "  else:\n",
        "    return x\n",
        "df[\"DiabetesPedigreeFunction\"] = df.DiabetesPedigreeFunction.apply(DPFb)\n",
        "df[\"DiabetesPedigreeFunction\"] = df.DiabetesPedigreeFunction.apply(DPFt)\n",
        "\n",
        "A1 = df.Age.quantile(0.05)\n",
        "def Ab(x):\n",
        "  if x < A1:\n",
        "    return A1\n",
        "  else:\n",
        "    return x\n",
        "A2 = df.Age.quantile(0.95)\n",
        "def At(x):\n",
        "  if x > A2:\n",
        "    return A2\n",
        "  else:\n",
        "    return x\n",
        "df[\"Age\"] = df.Age.apply(Ab)\n",
        "df[\"Age\"] = df.Age.apply(At)"
      ],
      "execution_count": null,
      "outputs": []
    },
    {
      "cell_type": "code",
      "metadata": {
        "id": "jo5s5m4vRWfs"
      },
      "source": [
        "df['Pregnancies']=(df['Pregnancies']-df['Pregnancies'].min())/(df['Pregnancies'].max()-df['Pregnancies'].min())\n",
        "df['Glucose']=(df['Glucose']-df['Glucose'].min())/(df['Glucose'].max()-df['Glucose'].min())\n",
        "df['BloodPressure']=(df['BloodPressure']-df['BloodPressure'].min())/(df['BloodPressure'].max()-df['BloodPressure'].min())\n",
        "df['SkinThickness']=(df['SkinThickness']-df['SkinThickness'].min())/(df['SkinThickness'].max()-df['SkinThickness'].min())\n",
        "df['Insulin']=(df['Insulin']-df['Insulin'].min())/(df['Insulin'].max()-df['Insulin'].min())\n",
        "df['BMI']=(df['BMI']-df['BMI'].min())/(df['BMI'].max()-df['BMI'].min())\n",
        "df['DiabetesPedigreeFunction']=(df['DiabetesPedigreeFunction']-df['DiabetesPedigreeFunction'].min())/(df['DiabetesPedigreeFunction'].max()-df['DiabetesPedigreeFunction'].min())\n",
        "df['Age']=(df['Age']-df['Age'].min())/(df['Age'].max()-df['Age'].min())"
      ],
      "execution_count": null,
      "outputs": []
    },
    {
      "cell_type": "code",
      "metadata": {
        "id": "GcXe8XI0RccA"
      },
      "source": [
        "from  matplotlib.colors import ListedColormap\n",
        "\n",
        "cmap_bold = ListedColormap(['#FF0000','#0000FF'])\n",
        "cmap_light  = ListedColormap(['#FFBBBB','#BBBBFF'])"
      ],
      "execution_count": null,
      "outputs": []
    },
    {
      "cell_type": "code",
      "metadata": {
        "id": "opkw0JuDRnPp"
      },
      "source": [
        "df.drop(['SkinThickness','BloodPressure','Pregnancies', 'Insulin','DiabetesPedigreeFunction','Age'], axis = 1,inplace=True)"
      ],
      "execution_count": null,
      "outputs": []
    },
    {
      "cell_type": "markdown",
      "metadata": {
        "id": "BDmK-7g-STJo"
      },
      "source": [
        "Simple Logistic Regression"
      ]
    },
    {
      "cell_type": "code",
      "metadata": {
        "id": "0Zr0k421Rq2A"
      },
      "source": [
        "def sigmoid(h):\n",
        "  return 1/(1+np.exp(-h))\n",
        "\n",
        "def cross_entropy(y,p_hat):\n",
        "  return -(1/len(y))*np.sum(y*np.log(p_hat) + (1-y)*np.log(1-p_hat))\n",
        "\n",
        "def accuracy(y,y_hat):\n",
        "  return np.mean(y == y_hat)"
      ],
      "execution_count": null,
      "outputs": []
    },
    {
      "cell_type": "code",
      "metadata": {
        "id": "gZIj9f_dRu3q"
      },
      "source": [
        "class LogisticRegression():\n",
        "\n",
        "  def __init__(self,thresh = 0.5):\n",
        "    self.thresh = thresh\n",
        "    self.w = None\n",
        "    self.b = None\n",
        "\n",
        "  def fit(self, X, y, eta = 1e-3, epochs = 1e3, show_curve = False):\n",
        "    epochs = int(epochs)\n",
        "    N,D = X.shape\n",
        "\n",
        "    #initilizing our weights\n",
        "    self.w = np.random.randn(D)\n",
        "    self.b = np.random.randn(1)\n",
        "\n",
        "    J = np.zeros(epochs)\n",
        "    #Gradient Descent\n",
        "    for epoch in range(epochs):\n",
        "      p_hat = self.__forward__(X)\n",
        "      J[epoch] = cross_entropy(y,p_hat)\n",
        "      self.w -= eta*(1/N)*X.T@(p_hat - y)\n",
        "      self.b -= eta*(1/N)*np.sum(p_hat - y)\n",
        "    if show_curve:\n",
        "      plt.figure()\n",
        "      plt.plot(J)\n",
        "      plt.xlabel(\"epochs\")\n",
        "      plt.ylabel('$\\mathcal{J}$')\n",
        "      plt.title('Training Curve')\n",
        "      plt.show()\n",
        "\n",
        "  def __forward__(self,X):\n",
        "    return sigmoid(X@self.w + self.b)\n",
        "  def predict(self,X):\n",
        "    return (self.__forward__(X) >= self.thresh).astype(np.int32)"
      ],
      "execution_count": null,
      "outputs": []
    },
    {
      "cell_type": "code",
      "metadata": {
        "colab": {
          "base_uri": "https://localhost:8080/",
          "height": 312
        },
        "id": "T8uDIArURxxx",
        "outputId": "da15ea5d-cb1d-4b52-d29d-0fca0eebd907"
      },
      "source": [
        "X_train = df.iloc[:614,:2].to_numpy() #goes to 613\n",
        "y_train = df.iloc[:614,2].to_numpy()\n",
        "X_validate = df.iloc[614:691,:2].to_numpy()\n",
        "y_validate = df.iloc[614:691,2].to_numpy()\n",
        "X_test = df.iloc[691:768,:2].to_numpy()\n",
        "y_test = df.iloc[691:768,2].to_numpy()\n",
        "\n",
        "log_reg = LogisticRegression()\n",
        "log_reg.fit(X_train, y_train, eta = 1e-2, epochs = 1e5,show_curve = True) #    log_reg.fit(X_train, y_train, eta = 1e-2, epochs = 1e5,show_curve = True) 74% 1/max\n",
        "\n",
        "y_hat = log_reg.predict(X_test)\n",
        "\n",
        "print(f\"Training Accuracy: {accuracy(y_test, y_hat):0.4f}\")"
      ],
      "execution_count": null,
      "outputs": [
        {
          "output_type": "display_data",
          "data": {
            "image/png": "[encoded data removed]",
            "text/plain": [
              "<Figure size 432x288 with 1 Axes>"
            ]
          },
          "metadata": {
            "tags": [],
            "needs_background": "light"
          }
        },
        {
          "output_type": "stream",
          "text": [
            "Training Accuracy: 0.7403\n"
          ],
          "name": "stdout"
        }
      ]
    },
    {
      "cell_type": "code",
      "metadata": {
        "id": "EnNXDKJvSze7"
      },
      "source": [
        "if __name__==\"__main__\":\n",
        "  main()"
      ],
      "execution_count": null,
      "outputs": []
    },
    {
      "cell_type": "code",
      "metadata": {
        "id": "3nSwfhFESo5k"
      },
      "source": [
        ""
      ],
      "execution_count": null,
      "outputs": []
    }
  ]
}