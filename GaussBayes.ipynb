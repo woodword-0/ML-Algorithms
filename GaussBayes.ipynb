{
  "nbformat": 4,
  "nbformat_minor": 0,
  "metadata": {
    "colab": {
      "name": "GaussBayes.ipynb",
      "provenance": [],
      "collapsed_sections": [],
      "authorship_tag": "ABX9TyP40E2JYDx5bO7SjHv1+6Gy",
      "include_colab_link": true
    },
    "kernelspec": {
      "display_name": "Python 3",
      "name": "python3"
    },
    "language_info": {
      "name": "python"
    }
  },
  "cells": [
    {
      "cell_type": "markdown",
      "metadata": {
        "id": "view-in-github",
        "colab_type": "text"
      },
      "source": [
        "<a href=\"https://colab.research.google.com/github/woodword-0/ML-Algorithms/blob/main/GaussBayes.ipynb\" target=\"_parent\"><img src=\"https://colab.research.google.com/assets/colab-badge.svg\" alt=\"Open In Colab\"/></a>"
      ]
    },
    {
      "cell_type": "code",
      "metadata": {
        "id": "NvGAZ-6KdZM9"
      },
      "source": [
        "import pandas as pd\n",
        "import numpy as np\n",
        "import matplotlib.pyplot as plt\n",
        "from scipy.stats import multivariate_normal as mvn"
      ],
      "execution_count": 16,
      "outputs": []
    },
    {
      "cell_type": "code",
      "metadata": {
        "id": "O8K5wk1udjk2"
      },
      "source": [
        "df1 = pd.read_csv('/content/MNIST_train.csv')\n",
        "df2 = pd.read_csv('/content/MNIST_test.csv')"
      ],
      "execution_count": 17,
      "outputs": []
    },
    {
      "cell_type": "code",
      "metadata": {
        "id": "8vQp3evZeETI"
      },
      "source": [
        "X_train = (1/255)*df1.iloc[:,3:].to_numpy()\n",
        "y_train = df1.iloc[:,2].to_numpy()\n",
        "X_test = (1/255)*df2.iloc[:,3:].to_numpy()\n",
        "y_test = df2.iloc[:, 2].to_numpy()"
      ],
      "execution_count": 18,
      "outputs": []
    },
    {
      "cell_type": "code",
      "metadata": {
        "colab": {
          "base_uri": "https://localhost:8080/"
        },
        "id": "jjhWd1vnSMpm",
        "outputId": "f75a7e38-785d-4cd6-8767-cd7fc52d7b2c"
      },
      "source": [
        "np.dot(X_test,X_test[3])"
      ],
      "execution_count": null,
      "outputs": [
        {
          "output_type": "execute_result",
          "data": {
            "text/plain": [
              "array([40.25433295, 50.24499808, 15.48865821, ..., 56.60335256,\n",
              "       55.06352941, 96.71446367])"
            ]
          },
          "metadata": {
            "tags": []
          },
          "execution_count": 12
        }
      ]
    },
    {
      "cell_type": "code",
      "metadata": {
        "id": "bNjzFYP0eJdU"
      },
      "source": [
        "class GaussNB():\n",
        "    \"\"\"Naive Bayes model\"\"\"\n",
        "    def __init__(self):\n",
        "        pass\n",
        "\n",
        "    def fit(self, X:np.array, y:np.array, epsilon:int=1e-1) -> None:\n",
        "        self.likelihoods = dict()\n",
        "        self.priors = dict()\n",
        "\n",
        "        self.K = set(y.astype(int)) # list of classes\n",
        "\n",
        "        for k in self.K:\n",
        "            X_k = X[y==k,:]\n",
        "            self.likelihoods[k] = {\"mean\": X_k.mean(axis=0), \"cov\": X_k.var(axis=0) + epsilon}\n",
        "            self.priors[k] = len(X_k) / len(X)\n",
        "\n",
        "\n",
        "    def predict(self, X: np.array) -> np.array:\n",
        "        N, D = X.shape\n",
        "\n",
        "        P_hat = np.zeros((N, len(self.K)))\n",
        "\n",
        "        for k, l in self.likelihoods.items():\n",
        "            P_hat[:, k] = mvn.logpdf(X, l[\"mean\"], l[\"cov\"] + np.log(self.priors[k]))\n",
        "        \n",
        "        return P_hat.argmax(axis=1)\n",
        "\n",
        "\n",
        "class GaussBayes:\n",
        "\n",
        "    def fit(self, X:np.array, y:np.array, epsilon:int = 1e-3) -> None:\n",
        "        self.likelihoods = dict()\n",
        "        self.priors = dict()\n",
        "\n",
        "        self.K = set(y.astype(int))\n",
        "\n",
        "        for k in self.K:\n",
        "            X_k = X[y==k,:]\n",
        "            N_k, D = X_k.shape\n",
        "            mu_k = X_k.mean(axis=0)\n",
        "            self.likelihoods[k] = {\"mean\": X_k.mean(axis=0), \"cov\": (1 / (N_k - 1)) * np.matmul((X_k-mu_k).T, X_k - mu_k) + epsilon*np.identity(D)} \n",
        "\n",
        "            self.priors[k] = len(X_k) / len(X)\n",
        "    \n",
        "    def predict(self, X:np.array) -> np.array:\n",
        "        N, D = X.shape\n",
        "        P_hat = np.zeros((N, len(self.K)))\n",
        "\n",
        "        for k, l in self.likelihoods.items():\n",
        "            P_hat[:,k] = mvn.logpdf(X, l[\"mean\"], l[\"cov\"]) + np.log(self.priors[k])\n",
        "\n",
        "        return P_hat.argmax(axis=1)"
      ],
      "execution_count": 19,
      "outputs": []
    },
    {
      "cell_type": "code",
      "metadata": {
        "id": "-2TNMvbcvoNq"
      },
      "source": [
        "# Checks accuracy of model\n",
        "gbayes = GaussBayes()\n",
        "gbayes.fit(X_train,y_train)\n",
        "y_hat_GB = gbayes.predict(X_train)"
      ],
      "execution_count": 26,
      "outputs": []
    },
    {
      "cell_type": "code",
      "metadata": {
        "id": "68pEn3vVzu4I"
      },
      "source": [
        "def accuracyGB(y_train,y_hat_GB):\n",
        "    return np.mean(y_train == y_hat_GB)"
      ],
      "execution_count": 27,
      "outputs": []
    },
    {
      "cell_type": "code",
      "metadata": {
        "colab": {
          "base_uri": "https://localhost:8080/"
        },
        "id": "JnRk01hOz0ix",
        "outputId": "f1f51679-edf6-4368-df45-feefde1c2e2d"
      },
      "source": [
        "print(accuracyGB(y_train ,y_hat_GB))"
      ],
      "execution_count": 28,
      "outputs": [
        {
          "output_type": "stream",
          "text": [
            "0.9306333333333333\n"
          ],
          "name": "stdout"
        }
      ]
    },
    {
      "cell_type": "code",
      "metadata": {
        "id": "8R9ymqoceQKC"
      },
      "source": [
        "gbayes = GaussBayes()\n",
        "gbayes.fit(X_train,y_train)\n",
        "y_hat_GB = gbayes.predict(X_test)"
      ],
      "execution_count": 29,
      "outputs": []
    },
    {
      "cell_type": "code",
      "metadata": {
        "id": "UjQv4nyf1XFy"
      },
      "source": [
        "def accuracyGB(y_test,y_hat_GB):\n",
        "    return np.mean(y_test == y_hat_GB)"
      ],
      "execution_count": 24,
      "outputs": []
    },
    {
      "cell_type": "code",
      "metadata": {
        "colab": {
          "base_uri": "https://localhost:8080/"
        },
        "id": "9RQx4iaL1cL4",
        "outputId": "1414d1e6-989e-49b5-b5ce-01036823a973"
      },
      "source": [
        "print(accuracyGB(y_test ,y_hat_GB))"
      ],
      "execution_count": 30,
      "outputs": [
        {
          "output_type": "stream",
          "text": [
            "0.9108\n"
          ],
          "name": "stdout"
        }
      ]
    },
    {
      "cell_type": "code",
      "metadata": {
        "id": "F6Uy2JfxoYwY"
      },
      "source": [
        "def show_me(X):\n",
        "  plt.imshow(X.reshape(28,28))\n",
        "def show_me_allmean(X,y,k):\n",
        "  show_me(X[y==k,:]/len(X[y==k,:]))"
      ],
      "execution_count": null,
      "outputs": []
    },
    {
      "cell_type": "markdown",
      "metadata": {
        "id": "HCcnFbkuOOBf"
      },
      "source": [
        ""
      ]
    },
    {
      "cell_type": "code",
      "metadata": {
        "colab": {
          "base_uri": "https://localhost:8080/",
          "height": 513
        },
        "id": "Qhuf_gugpNH2",
        "outputId": "894f9f73-ae61-474e-f689-c7d3263cd61d"
      },
      "source": [
        "show_me(X_test[0])"
      ],
      "execution_count": null,
      "outputs": [
        {
          "output_type": "display_data",
          "data": {
            "image/png": "[encoded data removed]",
            "text/plain": [
              "<Figure size 432x288 with 1 Axes>"
            ]
          },
          "metadata": {
            "tags": [],
            "needs_background": "light"
          }
        },
        {
          "output_type": "display_data",
          "data": {
            "image/png": "[encoded data removed]",
            "text/plain": [
              "<Figure size 432x288 with 1 Axes>"
            ]
          },
          "metadata": {
            "tags": [],
            "needs_background": "light"
          }
        }
      ]
    },
    {
      "cell_type": "code",
      "metadata": {
        "colab": {
          "base_uri": "https://localhost:8080/"
        },
        "id": "JgL8PxfDpWqe",
        "outputId": "e936f946-b9e6-46fb-dbca-6d8d5e9f1c98"
      },
      "source": [
        "gbayes.predict(X_test[0:1])"
      ],
      "execution_count": null,
      "outputs": [
        {
          "output_type": "execute_result",
          "data": {
            "text/plain": [
              "array([7])"
            ]
          },
          "metadata": {
            "tags": []
          },
          "execution_count": 46
        }
      ]
    },
    {
      "cell_type": "code",
      "metadata": {
        "colab": {
          "base_uri": "https://localhost:8080/"
        },
        "id": "WkX7j5kQqs3R",
        "outputId": "813aa928-2a40-40b9-dde0-16a4eb2380cd"
      },
      "source": [
        "X_test[9:1].shape"
      ],
      "execution_count": null,
      "outputs": [
        {
          "output_type": "execute_result",
          "data": {
            "text/plain": [
              "(0, 784)"
            ]
          },
          "metadata": {
            "tags": []
          },
          "execution_count": 42
        }
      ]
    },
    {
      "cell_type": "code",
      "metadata": {
        "colab": {
          "base_uri": "https://localhost:8080/"
        },
        "id": "5wChKzsMp2gq",
        "outputId": "d5630336-d5f5-4568-8f41-ceac6aa73961"
      },
      "source": [
        "type(X_test[0])"
      ],
      "execution_count": null,
      "outputs": [
        {
          "output_type": "execute_result",
          "data": {
            "text/plain": [
              "numpy.ndarray"
            ]
          },
          "metadata": {
            "tags": []
          },
          "execution_count": 43
        }
      ]
    },
    {
      "cell_type": "code",
      "metadata": {
        "colab": {
          "base_uri": "https://localhost:8080/"
        },
        "id": "Rv9o0wnsqGdS",
        "outputId": "f5e6508c-3234-45b1-e9a6-d2fa5f572108"
      },
      "source": [
        "X_test[0].shape"
      ],
      "execution_count": null,
      "outputs": [
        {
          "output_type": "execute_result",
          "data": {
            "text/plain": [
              "(784,)"
            ]
          },
          "metadata": {
            "tags": []
          },
          "execution_count": 63
        }
      ]
    },
    {
      "cell_type": "code",
      "metadata": {
        "id": "LMDPcM11qQns"
      },
      "source": [
        "plt.figure(figsize = (10,7))\n",
        "y_actu = pd.Series(y, name = 'Actual')\n"
      ],
      "execution_count": null,
      "outputs": []
    }
  ]
}