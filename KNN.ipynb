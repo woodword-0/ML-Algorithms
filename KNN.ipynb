{
  "nbformat": 4,
  "nbformat_minor": 0,
  "metadata": {
    "colab": {
      "name": "KNN.ipynb",
      "provenance": [],
      "collapsed_sections": [],
      "authorship_tag": "ABX9TyMSp2E8VilY8dalR7Bf1DxE",
      "include_colab_link": true
    },
    "kernelspec": {
      "name": "python3",
      "display_name": "Python 3"
    },
    "language_info": {
      "name": "python"
    }
  },
  "cells": [
    {
      "cell_type": "markdown",
      "metadata": {
        "id": "view-in-github",
        "colab_type": "text"
      },
      "source": [
        "<a href=\"https://colab.research.google.com/github/woodword-0/ML-Algorithms/blob/main/KNN.ipynb\" target=\"_parent\"><img src=\"https://colab.research.google.com/assets/colab-badge.svg\" alt=\"Open In Colab\"/></a>"
      ]
    },
    {
      "cell_type": "code",
      "metadata": {
        "id": "SntnQ7X2vID-"
      },
      "source": [
        "import pandas as pd\n",
        "import numpy as np\n",
        "import matplotlib.pyplot as plt\n",
        "import seaborn as sns\n",
        "import scipy as sp\n",
        "from scipy.stats import multivariate_normal as mvn\n",
        "from numpy import dot\n",
        "from numpy.linalg import norm\n",
        "import time\n"
      ],
      "execution_count": 11,
      "outputs": []
    },
    {
      "cell_type": "code",
      "metadata": {
        "id": "ODmPZb-lvMMo"
      },
      "source": [
        "df1 = pd.read_csv('/MNIST_train.csv')\n",
        "df2 = pd.read_csv('/MNIST_test.csv')"
      ],
      "execution_count": 12,
      "outputs": []
    },
    {
      "cell_type": "code",
      "metadata": {
        "id": "bM53hbDCvPTe"
      },
      "source": [
        "X_train = (1/255)*df1.iloc[:,3:].to_numpy()\n",
        "y_train = df1.iloc[:,2].to_numpy()\n",
        "X_test = (1/255)*df2.iloc[:,3:].to_numpy()\n",
        "y_test = df2.iloc[:, 2].to_numpy()"
      ],
      "execution_count": 13,
      "outputs": []
    },
    {
      "cell_type": "code",
      "metadata": {
        "colab": {
          "base_uri": "https://localhost:8080/"
        },
        "id": "OhVGi60dXeXm",
        "outputId": "a050c36b-a431-4dfc-8835-5565e4dc3ff1"
      },
      "source": [
        "y_train.shape\n",
        "X_train.shape"
      ],
      "execution_count": 14,
      "outputs": [
        {
          "output_type": "execute_result",
          "data": {
            "text/plain": [
              "(60000, 784)"
            ]
          },
          "metadata": {
            "tags": []
          },
          "execution_count": 14
        }
      ]
    },
    {
      "cell_type": "code",
      "metadata": {
        "id": "S2Gu8XsGvXVU"
      },
      "source": [
        "#KNN classifier"
      ],
      "execution_count": null,
      "outputs": []
    },
    {
      "cell_type": "code",
      "metadata": {
        "id": "XFw3UO0HvZ35"
      },
      "source": [
        "class KNNClassifier():\n",
        "  def fit(self, X, y):\n",
        "    self.X = X\n",
        "    self.y = y\n",
        "  def predict(self, X, K, epsilon = 1e-3):\n",
        "    N = len(X)\n",
        "    y_hat = np.zeros(N)\n",
        "\n",
        "    for i in range(N):\n",
        "      dist2 = np.sum((self.X-X[i])**2, axis = 1) #np.dot(X, X[i])/(norm(X)*norm(X[i]))\n",
        "      idxt = np.argsort(dist2)[:K]\n",
        "      gamma_k = 1/(np.sqrt(dist2[idxt])+epsilon)\n",
        "      y_hat[i] = np.bincount(self.y[idxt], weights = gamma_k).argmax()\n",
        "\n",
        "    return y_hat"
      ],
      "execution_count": 15,
      "outputs": []
    },
    {
      "cell_type": "code",
      "metadata": {
        "id": "1Y8YEl4ZDaNc"
      },
      "source": [
        "start_time = time.time()\n",
        "knn = KNNClassifier()\n",
        "knn.fit(X_train,y_train)\n",
        "print(\"--- %s seconds ---\" % (time.time() - start_time))"
      ],
      "execution_count": null,
      "outputs": []
    },
    {
      "cell_type": "code",
      "metadata": {
        "id": "lsxrWtc7Df9o"
      },
      "source": [
        "start_time = time.time()\n",
        "y_hat = knn.predict(X_train,1000)\n",
        "print(\"--- %s seconds ---\" % (time.time() - start_time))"
      ],
      "execution_count": null,
      "outputs": []
    },
    {
      "cell_type": "code",
      "metadata": {
        "id": "rrDeqnbvEX_m"
      },
      "source": [
        "def accuracyGB(y_train,y_hat_GB):\n",
        "    return np.mean(y_train == y_hat_GB)"
      ],
      "execution_count": null,
      "outputs": []
    },
    {
      "cell_type": "code",
      "metadata": {
        "id": "jqYbTdVOEsHs"
      },
      "source": [
        "print(accuracyGB(y_train ,y_hat_GB))"
      ],
      "execution_count": null,
      "outputs": []
    },
    {
      "cell_type": "code",
      "metadata": {
        "colab": {
          "base_uri": "https://localhost:8080/"
        },
        "id": "Ij4h6CktveJ4",
        "outputId": "66d6a3bd-a535-4f9d-a125-fa34809fb99a"
      },
      "source": [
        "start_time = time.time()\n",
        "knn = KNNClassifier()\n",
        "knn.fit(X_train,y_train)\n",
        "print(\"--- %s seconds ---\" % (time.time() - start_time))"
      ],
      "execution_count": 16,
      "outputs": [
        {
          "output_type": "stream",
          "text": [
            "--- 7.486343383789062e-05 seconds ---\n"
          ],
          "name": "stdout"
        }
      ]
    },
    {
      "cell_type": "code",
      "metadata": {
        "colab": {
          "base_uri": "https://localhost:8080/"
        },
        "id": "Udp6sdnqviTm",
        "outputId": "19f699bd-2d17-4b42-9810-a904c0e83203"
      },
      "source": [
        "start_time = time.time()\n",
        "y_hat = knn.predict(X_test,1000)\n",
        "print(\"--- %s seconds ---\" % (time.time() - start_time))"
      ],
      "execution_count": 17,
      "outputs": [
        {
          "output_type": "stream",
          "text": [
            "--- 1602.645622253418 seconds ---\n"
          ],
          "name": "stdout"
        }
      ]
    },
    {
      "cell_type": "code",
      "metadata": {
        "id": "r3ntCx-pvl0a"
      },
      "source": [
        "def accuracy(y_test,y_hat):\n",
        "    return np.mean(y_test == y_hat)"
      ],
      "execution_count": 18,
      "outputs": []
    },
    {
      "cell_type": "code",
      "metadata": {
        "colab": {
          "base_uri": "https://localhost:8080/"
        },
        "id": "u1zRxMWo5W49",
        "outputId": "20500caa-75a4-499e-b0b7-6708815d9be4"
      },
      "source": [
        "accuracy(y_test,y_hat) #K = 1000"
      ],
      "execution_count": 19,
      "outputs": [
        {
          "output_type": "execute_result",
          "data": {
            "text/plain": [
              "0.8788"
            ]
          },
          "metadata": {
            "tags": []
          },
          "execution_count": 19
        }
      ]
    },
    {
      "cell_type": "code",
      "metadata": {
        "colab": {
          "base_uri": "https://localhost:8080/"
        },
        "id": "BNbcUZdgvmr4",
        "outputId": "10d01c5e-36bc-41b0-defb-1dc12391df57"
      },
      "source": [
        "accuracy(y_test,y_hat) #K = 3"
      ],
      "execution_count": null,
      "outputs": [
        {
          "output_type": "execute_result",
          "data": {
            "text/plain": [
              "0.9646"
            ]
          },
          "metadata": {
            "tags": []
          },
          "execution_count": 46
        }
      ]
    },
    {
      "cell_type": "code",
      "metadata": {
        "id": "304tIX7szrxC"
      },
      "source": [
        "def show_me(X):\n",
        "  plt.imshow(X.reshape(28,28))\n",
        "def show_me_allmean(X,y,k):\n",
        "  show_me(X[y==k,:]/len(X[y==k,:]))"
      ],
      "execution_count": null,
      "outputs": []
    },
    {
      "cell_type": "code",
      "metadata": {
        "colab": {
          "base_uri": "https://localhost:8080/",
          "height": 265
        },
        "id": "6zGmZy7rz0R2",
        "outputId": "3de84579-ffe8-438d-a42d-7470bb65c137"
      },
      "source": [
        "show_me(X_test[8])"
      ],
      "execution_count": null,
      "outputs": [
        {
          "output_type": "display_data",
          "data": {
            "image/png": "[encoded data removed]",
            "text/plain": [
              "<Figure size 432x288 with 1 Axes>"
            ]
          },
          "metadata": {
            "tags": [],
            "needs_background": "light"
          }
        }
      ]
    },
    {
      "cell_type": "code",
      "metadata": {
        "colab": {
          "base_uri": "https://localhost:8080/"
        },
        "id": "pbhF_c_Y2QHL",
        "outputId": "3a937d65-ab5e-47ca-e3de-146bee38b240"
      },
      "source": [
        "knn.predict(X_test[8:9],3)"
      ],
      "execution_count": null,
      "outputs": [
        {
          "output_type": "execute_result",
          "data": {
            "text/plain": [
              "array([5.])"
            ]
          },
          "metadata": {
            "tags": []
          },
          "execution_count": 61
        }
      ]
    },
    {
      "cell_type": "code",
      "metadata": {
        "colab": {
          "base_uri": "https://localhost:8080/"
        },
        "id": "mT1op9guMONc",
        "outputId": "9fc4036f-a4a1-4658-cd6c-38077b1ace68"
      },
      "source": [
        "X_test[0:1].shape"
      ],
      "execution_count": null,
      "outputs": [
        {
          "output_type": "execute_result",
          "data": {
            "text/plain": [
              "(1, 784)"
            ]
          },
          "metadata": {
            "tags": []
          },
          "execution_count": 26
        }
      ]
    },
    {
      "cell_type": "code",
      "metadata": {
        "colab": {
          "base_uri": "https://localhost:8080/",
          "height": 265
        },
        "id": "Qwf0OU1B4MeE",
        "outputId": "124b4032-6330-4e61-a937-a109151df925"
      },
      "source": [
        "show_me_allmean(X_test[0:1],y_test[0:1],7)"
      ],
      "execution_count": null,
      "outputs": [
        {
          "output_type": "display_data",
          "data": {
            "image/png": "[encoded data removed]",
            "text/plain": [
              "<Figure size 432x288 with 1 Axes>"
            ]
          },
          "metadata": {
            "tags": [],
            "needs_background": "light"
          }
        }
      ]
    },
    {
      "cell_type": "code",
      "metadata": {
        "colab": {
          "base_uri": "https://localhost:8080/",
          "height": 459
        },
        "id": "U0-CfNwARLOj",
        "outputId": "77745f2d-8886-4f06-866d-0d5ce80df1de"
      },
      "source": [
        "plt.figure(figsize=(10,7))\n",
        "y_actu = pd.Series(y_test,name = 'Actual')\n",
        "y_pred = pd.Series(y_hat, name = 'Predicted')\n",
        "cm = pd.crosstab(y_actu, y_pred)\n",
        "ax = sns.heatmap(cm,annot = True, fmt = 'd')\n",
        "plt.ylabel('True Label')\n",
        "plt.xlabel('Predicted Label')"
      ],
      "execution_count": null,
      "outputs": [
        {
          "output_type": "execute_result",
          "data": {
            "text/plain": [
              "Text(0.5, 42.0, 'Predicted Label')"
            ]
          },
          "metadata": {
            "tags": []
          },
          "execution_count": 58
        },
        {
          "output_type": "display_data",
          "data": {
            "image/png": "[encoded data removed]",
            "text/plain": [
              "<Figure size 720x504 with 2 Axes>"
            ]
          },
          "metadata": {
            "tags": [],
            "needs_background": "light"
          }
        }
      ]
    }
  ]
}