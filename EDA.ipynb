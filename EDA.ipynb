{
  "nbformat": 4,
  "nbformat_minor": 0,
  "metadata": {
    "kernelspec": {
      "display_name": "Python 3",
      "language": "python",
      "name": "python3"
    },
    "language_info": {
      "codemirror_mode": {
        "name": "ipython",
        "version": 3
      },
      "file_extension": ".py",
      "mimetype": "text/x-python",
      "name": "python",
      "nbconvert_exporter": "python",
      "pygments_lexer": "ipython3",
      "version": "3.8.5"
    },
    "colab": {
      "name": "EDA.ipynb",
      "provenance": [],
      "collapsed_sections": [],
      "include_colab_link": true
    }
  },
  "cells": [
    {
      "cell_type": "markdown",
      "metadata": {
        "id": "view-in-github",
        "colab_type": "text"
      },
      "source": [
        "<a href=\"https://colab.research.google.com/github/woodword-0/ML-Algorithms/blob/main/EDA.ipynb\" target=\"_parent\"><img src=\"https://colab.research.google.com/assets/colab-badge.svg\" alt=\"Open In Colab\"/></a>"
      ]
    },
    {
      "cell_type": "code",
      "metadata": {
        "id": "0J-RIqLZKC_v"
      },
      "source": [
        "import numpy as np\n",
        "import pandas as pd\n",
        "import matplotlib.pyplot as plt\n",
        "import statistics as stat\n",
        "import seaborn as sns; sns.set_theme()\n",
        "missing_values = ['NA','n/a',\"\",'','N/A','None','none','NONE','n.a.','?']\n",
        "df = pd.read_csv(r'C:\\Users\\Field Employee\\Downloads\\raw_house_data.csv', na_values = missing_values)\n",
        "\n",
        "#replace all instances of \"None\" with zero\n",
        "#df = df.replace(\"None\", 0)\n",
        "#Columns with missing values\n",
        "nan_col = []\n",
        "for col in df.head():\n",
        "    nan = df[col].isnull().values.any()\n",
        "    if nan == True:\n",
        "        nan_col.append(col)\n",
        "print(nan_col)\n",
        "#replace all instances of \"None\" with zero\n",
        "#df1 = df.replace(\"missing_values\", 0)"
      ],
      "execution_count": null,
      "outputs": []
    },
    {
      "cell_type": "code",
      "metadata": {
        "id": "wuBZXkLwKC_8",
        "outputId": "1928df5f-af0b-42cf-d72d-cce574be355e"
      },
      "source": [
        "#Finding the mode\n",
        "df['floor_covering'].value_counts()"
      ],
      "execution_count": null,
      "outputs": [
        {
          "output_type": "execute_result",
          "data": {
            "text/plain": [
              "Carpet, Ceramic Tile                         1235\n",
              "Carpet, Natural Stone                         579\n",
              "Carpet, Ceramic Tile, Wood                    258\n",
              "Ceramic Tile                                  247\n",
              "Concrete                                      242\n",
              "                                             ... \n",
              "Carpet, Concrete, Laminate, Natural Stone       1\n",
              "Ceramic Tile, Other: Marble                     1\n",
              "Carpet, Other: Travertine Tile                  1\n",
              "Carpet, Other: Brick Pavers                     1\n",
              "Carpet, Other: Talavera Floors                  1\n",
              "Name: floor_covering, Length: 310, dtype: int64"
            ]
          },
          "metadata": {
            "tags": []
          },
          "execution_count": 162
        }
      ]
    },
    {
      "cell_type": "code",
      "metadata": {
        "id": "q_tfpshmKC_-",
        "outputId": "44dd82b1-cf8a-4e54-c1bd-bcd6a2653bed"
      },
      "source": [
        "#Setting categorical variables\n",
        "num_vars = df.columns[df.dtypes != 'object']\n",
        "cat_vars = df.columns[df.dtypes == 'object']\n",
        "df[cat_vars].isnull().sum().sort_values(ascending = False)"
      ],
      "execution_count": null,
      "outputs": [
        {
          "output_type": "execute_result",
          "data": {
            "text/plain": [
              "HOA                 562\n",
              "kitchen_features     33\n",
              "floor_covering        1\n",
              "fireplaces            0\n",
              "dtype: int64"
            ]
          },
          "metadata": {
            "tags": []
          },
          "execution_count": 163
        }
      ]
    },
    {
      "cell_type": "code",
      "metadata": {
        "id": "IpTA58t8KC__"
      },
      "source": [
        "#fill in categorical objects with their respective modes\n",
        "df[\"kitchen_features\"].fillna(df['kitchen_features'].value_counts().index[0], inplace = True)\n",
        "df[\"floor_covering\"].fillna(df['floor_covering'].value_counts().index[0], inplace = True)"
      ],
      "execution_count": null,
      "outputs": []
    },
    {
      "cell_type": "code",
      "metadata": {
        "id": "7yR4oAKqKC__",
        "outputId": "ceb9ef11-ff33-4f48-8b7d-797fb574e905"
      },
      "source": [
        "#Most cat variables are clean. Will drop HOA at the end\n",
        "df[cat_vars].isnull().sum().sort_values(ascending = False)"
      ],
      "execution_count": null,
      "outputs": [
        {
          "output_type": "execute_result",
          "data": {
            "text/plain": [
              "HOA                 562\n",
              "floor_covering        0\n",
              "fireplaces            0\n",
              "kitchen_features      0\n",
              "dtype: int64"
            ]
          },
          "metadata": {
            "tags": []
          },
          "execution_count": 165
        }
      ]
    },
    {
      "cell_type": "code",
      "metadata": {
        "id": "KTfJcfWSKDAA"
      },
      "source": [
        "#missing values sqrft\n",
        "X = df[df['sqrt_ft'].isnull()].index.tolist()\n",
        "for x in X:\n",
        "    df['sqrt_ft'].replace(df['sqrt_ft'][x],df['sqrt_ft'].mean( skipna = True), inplace = True )"
      ],
      "execution_count": null,
      "outputs": []
    },
    {
      "cell_type": "code",
      "metadata": {
        "id": "b_1yTkyUKDAA"
      },
      "source": [
        "#row drop due to square footage\n",
        "df.drop(3277, inplace = True)\n",
        "#row drop due to square footage\n",
        "df.drop(2111, inplace = True)"
      ],
      "execution_count": null,
      "outputs": []
    },
    {
      "cell_type": "code",
      "metadata": {
        "id": "9vEmbhkwKDAB"
      },
      "source": [
        "#row drop due to lot acres\n",
        "df.drop(0, inplace = True)\n",
        "df.drop(4518, inplace = True)\n",
        "df.drop(1, inplace = True)\n",
        "df.drop(2, inplace = True)\n",
        "df.drop(3, inplace = True)\n",
        "df.drop(29, inplace = True)\n",
        "df.drop(1095, inplace = True) \n",
        "df.drop(2478, inplace = True)"
      ],
      "execution_count": null,
      "outputs": []
    },
    {
      "cell_type": "code",
      "metadata": {
        "id": "XWFDRcENKDAB"
      },
      "source": [
        "#missing values lot acres\n",
        "df[\"lot_acres\"].fillna(df['lot_acres'].value_counts().index[0], inplace = True)\n"
      ],
      "execution_count": null,
      "outputs": []
    },
    {
      "cell_type": "code",
      "metadata": {
        "id": "KoyIGOaoKDAC"
      },
      "source": [
        "#missing values lot acres\n",
        "X = df[df['lot_acres'].isnull()].index.tolist()\n",
        "for x in X:\n",
        "    print(X)"
      ],
      "execution_count": null,
      "outputs": []
    },
    {
      "cell_type": "code",
      "metadata": {
        "id": "hHiIgtrNKDAC"
      },
      "source": [
        "#row drop due to garage\n",
        "df.drop(3393, inplace = True)\n",
        "df.drop(3513, inplace = True)\n",
        "df.drop(281, inplace = True)\n",
        "df.drop(215, inplace = True)\n",
        "df.drop(611, inplace = True)\n",
        "df.drop(2624, inplace = True)\n",
        "df.drop(3961, inplace = True) \n",
        "df.drop(4094, inplace = True)\n",
        "df.drop(4604, inplace = True)\n",
        "df.drop(4964, inplace = True)"
      ],
      "execution_count": null,
      "outputs": []
    },
    {
      "cell_type": "code",
      "metadata": {
        "id": "sw_zfsZOKDAC",
        "outputId": "cc420ca3-4994-48ce-f061-2d62c9d8904a"
      },
      "source": [
        "index = df[df['bathrooms'] == 13.0].index.tolist()\n",
        "#[15.0, 22.0, 30.0, 12.0, 12.0, 12.0, 20.0, 13.0]\n",
        "print(index)"
      ],
      "execution_count": null,
      "outputs": [
        {
          "output_type": "stream",
          "text": [
            "[]\n"
          ],
          "name": "stdout"
        }
      ]
    },
    {
      "cell_type": "code",
      "metadata": {
        "id": "hMnUyzzaKDAD"
      },
      "source": [
        "#df[num_vars].isnull().sum().sort_values(ascending = False)\n",
        "#missing values bathrooms\n",
        "df[\"bathrooms\"].fillna(df['bathrooms'].value_counts().index[0], inplace = True)"
      ],
      "execution_count": null,
      "outputs": []
    },
    {
      "cell_type": "code",
      "metadata": {
        "id": "oc4i_2hrKDAD",
        "outputId": "ced27db1-4b56-4a79-f4ee-7c2f1a45a045"
      },
      "source": [
        "df[num_vars].isnull().sum().sort_values(ascending = False)"
      ],
      "execution_count": null,
      "outputs": [
        {
          "output_type": "execute_result",
          "data": {
            "text/plain": [
              "garage        6\n",
              "sqrt_ft       0\n",
              "bathrooms     0\n",
              "bedrooms      0\n",
              "year_built    0\n",
              "taxes         0\n",
              "lot_acres     0\n",
              "latitude      0\n",
              "longitude     0\n",
              "zipcode       0\n",
              "sold_price    0\n",
              "MLS           0\n",
              "dtype: int64"
            ]
          },
          "metadata": {
            "tags": []
          },
          "execution_count": 174
        }
      ]
    },
    {
      "cell_type": "code",
      "metadata": {
        "id": "66l29Pt5KDAE",
        "outputId": "b0147c47-750b-4bce-821c-ee91d49849df"
      },
      "source": [
        "#zeroes\n",
        "(df == '0').sum().sort_values(ascending = False)"
      ],
      "execution_count": null,
      "outputs": [
        {
          "output_type": "execute_result",
          "data": {
            "text/plain": [
              "HOA                 814\n",
              "fireplaces          303\n",
              "floor_covering        0\n",
              "kitchen_features      0\n",
              "garage                0\n",
              "sqrt_ft               0\n",
              "bathrooms             0\n",
              "bedrooms              0\n",
              "year_built            0\n",
              "taxes                 0\n",
              "lot_acres             0\n",
              "latitude              0\n",
              "longitude             0\n",
              "zipcode               0\n",
              "sold_price            0\n",
              "MLS                   0\n",
              "dtype: int64"
            ]
          },
          "metadata": {
            "tags": []
          },
          "execution_count": 175
        }
      ]
    },
    {
      "cell_type": "code",
      "metadata": {
        "id": "_B--b1nCKDAE"
      },
      "source": [
        "#dropping HOA\n",
        "df.drop(columns = \"HOA\", inplace = True)"
      ],
      "execution_count": null,
      "outputs": []
    },
    {
      "cell_type": "code",
      "metadata": {
        "id": "Y88PZ3hgKDAE"
      },
      "source": [
        "#dropping HOA\n",
        "df.drop(columns = \"MLS\", inplace = True)"
      ],
      "execution_count": null,
      "outputs": []
    },
    {
      "cell_type": "code",
      "metadata": {
        "id": "IWU1xQNwKDAF",
        "outputId": "451c2181-7bd4-4aa2-a391-802d577a748b"
      },
      "source": [
        "#zeroes\n",
        "(df == '0').sum().sort_values(ascending = False)"
      ],
      "execution_count": null,
      "outputs": [
        {
          "output_type": "execute_result",
          "data": {
            "text/plain": [
              "fireplaces          303\n",
              "floor_covering        0\n",
              "kitchen_features      0\n",
              "garage                0\n",
              "sqrt_ft               0\n",
              "bathrooms             0\n",
              "bedrooms              0\n",
              "year_built            0\n",
              "taxes                 0\n",
              "lot_acres             0\n",
              "latitude              0\n",
              "longitude             0\n",
              "zipcode               0\n",
              "sold_price            0\n",
              "dtype: int64"
            ]
          },
          "metadata": {
            "tags": []
          },
          "execution_count": 178
        }
      ]
    },
    {
      "cell_type": "code",
      "metadata": {
        "id": "CgiQzI3PKDAF",
        "outputId": "2eacb223-b81f-4cb3-a98b-1d58083de407"
      },
      "source": [
        "df"
      ],
      "execution_count": null,
      "outputs": [
        {
          "output_type": "execute_result",
          "data": {
            "text/html": [
              "<div>\n",
              "<style scoped>\n",
              "    .dataframe tbody tr th:only-of-type {\n",
              "        vertical-align: middle;\n",
              "    }\n",
              "\n",
              "    .dataframe tbody tr th {\n",
              "        vertical-align: top;\n",
              "    }\n",
              "\n",
              "    .dataframe thead th {\n",
              "        text-align: right;\n",
              "    }\n",
              "</style>\n",
              "<table border=\"1\" class=\"dataframe\">\n",
              "  <thead>\n",
              "    <tr style=\"text-align: right;\">\n",
              "      <th></th>\n",
              "      <th>sold_price</th>\n",
              "      <th>zipcode</th>\n",
              "      <th>longitude</th>\n",
              "      <th>latitude</th>\n",
              "      <th>lot_acres</th>\n",
              "      <th>taxes</th>\n",
              "      <th>year_built</th>\n",
              "      <th>bedrooms</th>\n",
              "      <th>bathrooms</th>\n",
              "      <th>sqrt_ft</th>\n",
              "      <th>garage</th>\n",
              "      <th>kitchen_features</th>\n",
              "      <th>fireplaces</th>\n",
              "      <th>floor_covering</th>\n",
              "    </tr>\n",
              "  </thead>\n",
              "  <tbody>\n",
              "    <tr>\n",
              "      <th>4</th>\n",
              "      <td>3411450.0</td>\n",
              "      <td>85750</td>\n",
              "      <td>-110.813768</td>\n",
              "      <td>32.285162</td>\n",
              "      <td>3.21</td>\n",
              "      <td>15393.00</td>\n",
              "      <td>1995</td>\n",
              "      <td>4</td>\n",
              "      <td>6.0</td>\n",
              "      <td>6396.0</td>\n",
              "      <td>3.0</td>\n",
              "      <td>Dishwasher, Garbage Disposal, Refrigerator, Mi...</td>\n",
              "      <td>5</td>\n",
              "      <td>Carpet, Concrete</td>\n",
              "    </tr>\n",
              "    <tr>\n",
              "      <th>5</th>\n",
              "      <td>3250000.0</td>\n",
              "      <td>85718</td>\n",
              "      <td>-110.910593</td>\n",
              "      <td>32.339090</td>\n",
              "      <td>1.67</td>\n",
              "      <td>27802.84</td>\n",
              "      <td>1999</td>\n",
              "      <td>3</td>\n",
              "      <td>4.0</td>\n",
              "      <td>6842.0</td>\n",
              "      <td>3.0</td>\n",
              "      <td>Dishwasher, Garbage Disposal, Refrigerator, Mi...</td>\n",
              "      <td>5</td>\n",
              "      <td>Natural Stone, Wood, Other</td>\n",
              "    </tr>\n",
              "    <tr>\n",
              "      <th>6</th>\n",
              "      <td>2400000.0</td>\n",
              "      <td>85712</td>\n",
              "      <td>-110.883315</td>\n",
              "      <td>32.261069</td>\n",
              "      <td>2.10</td>\n",
              "      <td>19038.42</td>\n",
              "      <td>2001</td>\n",
              "      <td>9</td>\n",
              "      <td>8.0</td>\n",
              "      <td>12025.0</td>\n",
              "      <td>4.0</td>\n",
              "      <td>Dishwasher, Garbage Disposal, Oven</td>\n",
              "      <td>6</td>\n",
              "      <td>Carpet, Natural Stone, Wood, Other</td>\n",
              "    </tr>\n",
              "    <tr>\n",
              "      <th>7</th>\n",
              "      <td>2500000.0</td>\n",
              "      <td>85750</td>\n",
              "      <td>-110.861002</td>\n",
              "      <td>32.331603</td>\n",
              "      <td>1.07</td>\n",
              "      <td>21646.00</td>\n",
              "      <td>2011</td>\n",
              "      <td>6</td>\n",
              "      <td>8.0</td>\n",
              "      <td>8921.0</td>\n",
              "      <td>4.0</td>\n",
              "      <td>Compactor, Dishwasher, Freezer, Garbage Dispos...</td>\n",
              "      <td>5</td>\n",
              "      <td>Carpet, Natural Stone, Wood</td>\n",
              "    </tr>\n",
              "    <tr>\n",
              "      <th>8</th>\n",
              "      <td>3700000.0</td>\n",
              "      <td>85718</td>\n",
              "      <td>-110.912156</td>\n",
              "      <td>32.343601</td>\n",
              "      <td>6.73</td>\n",
              "      <td>25094.39</td>\n",
              "      <td>2002</td>\n",
              "      <td>5</td>\n",
              "      <td>7.0</td>\n",
              "      <td>5238.0</td>\n",
              "      <td>3.0</td>\n",
              "      <td>Compactor, Dishwasher, Freezer, Garbage Dispos...</td>\n",
              "      <td>1</td>\n",
              "      <td>Carpet, Natural Stone, Wood, Other</td>\n",
              "    </tr>\n",
              "    <tr>\n",
              "      <th>...</th>\n",
              "      <td>...</td>\n",
              "      <td>...</td>\n",
              "      <td>...</td>\n",
              "      <td>...</td>\n",
              "      <td>...</td>\n",
              "      <td>...</td>\n",
              "      <td>...</td>\n",
              "      <td>...</td>\n",
              "      <td>...</td>\n",
              "      <td>...</td>\n",
              "      <td>...</td>\n",
              "      <td>...</td>\n",
              "      <td>...</td>\n",
              "      <td>...</td>\n",
              "    </tr>\n",
              "    <tr>\n",
              "      <th>4995</th>\n",
              "      <td>495000.0</td>\n",
              "      <td>85641</td>\n",
              "      <td>-110.661829</td>\n",
              "      <td>31.907917</td>\n",
              "      <td>4.98</td>\n",
              "      <td>2017.00</td>\n",
              "      <td>2005</td>\n",
              "      <td>5</td>\n",
              "      <td>3.0</td>\n",
              "      <td>3601.0</td>\n",
              "      <td>3.0</td>\n",
              "      <td>Dishwasher, Double Sink, Garbage Disposal, Gas...</td>\n",
              "      <td>1</td>\n",
              "      <td>Carpet, Ceramic Tile</td>\n",
              "    </tr>\n",
              "    <tr>\n",
              "      <th>4996</th>\n",
              "      <td>550000.0</td>\n",
              "      <td>85750</td>\n",
              "      <td>-110.858556</td>\n",
              "      <td>32.316373</td>\n",
              "      <td>1.42</td>\n",
              "      <td>4822.01</td>\n",
              "      <td>1990</td>\n",
              "      <td>4</td>\n",
              "      <td>3.0</td>\n",
              "      <td>2318.0</td>\n",
              "      <td>3.0</td>\n",
              "      <td>Dishwasher, Double Sink, Electric Range, Garba...</td>\n",
              "      <td>1</td>\n",
              "      <td>Carpet, Ceramic Tile</td>\n",
              "    </tr>\n",
              "    <tr>\n",
              "      <th>4997</th>\n",
              "      <td>475000.0</td>\n",
              "      <td>85192</td>\n",
              "      <td>-110.755428</td>\n",
              "      <td>32.964708</td>\n",
              "      <td>12.06</td>\n",
              "      <td>1000.00</td>\n",
              "      <td>1969</td>\n",
              "      <td>3</td>\n",
              "      <td>2.0</td>\n",
              "      <td>1772.0</td>\n",
              "      <td>0.0</td>\n",
              "      <td>Dishwasher, Electric Range, Island, Refrigerat...</td>\n",
              "      <td>0</td>\n",
              "      <td>Ceramic Tile</td>\n",
              "    </tr>\n",
              "    <tr>\n",
              "      <th>4998</th>\n",
              "      <td>550000.0</td>\n",
              "      <td>85745</td>\n",
              "      <td>-111.055528</td>\n",
              "      <td>32.296871</td>\n",
              "      <td>1.01</td>\n",
              "      <td>5822.93</td>\n",
              "      <td>2009</td>\n",
              "      <td>4</td>\n",
              "      <td>4.0</td>\n",
              "      <td>3724.0</td>\n",
              "      <td>3.0</td>\n",
              "      <td>Dishwasher, Double Sink, Garbage Disposal, Gas...</td>\n",
              "      <td>1</td>\n",
              "      <td>Carpet, Ceramic Tile</td>\n",
              "    </tr>\n",
              "    <tr>\n",
              "      <th>4999</th>\n",
              "      <td>450000.0</td>\n",
              "      <td>85621</td>\n",
              "      <td>-110.913054</td>\n",
              "      <td>31.385259</td>\n",
              "      <td>4.16</td>\n",
              "      <td>2814.48</td>\n",
              "      <td>1988</td>\n",
              "      <td>4</td>\n",
              "      <td>4.0</td>\n",
              "      <td>4317.0</td>\n",
              "      <td>NaN</td>\n",
              "      <td>Compactor, Dishwasher, Double Sink, Island, Ap...</td>\n",
              "      <td>3</td>\n",
              "      <td>Carpet, Mexican Tile</td>\n",
              "    </tr>\n",
              "  </tbody>\n",
              "</table>\n",
              "<p>4980 rows × 14 columns</p>\n",
              "</div>"
            ],
            "text/plain": [
              "      sold_price  zipcode   longitude   latitude  lot_acres     taxes  \\\n",
              "4      3411450.0    85750 -110.813768  32.285162       3.21  15393.00   \n",
              "5      3250000.0    85718 -110.910593  32.339090       1.67  27802.84   \n",
              "6      2400000.0    85712 -110.883315  32.261069       2.10  19038.42   \n",
              "7      2500000.0    85750 -110.861002  32.331603       1.07  21646.00   \n",
              "8      3700000.0    85718 -110.912156  32.343601       6.73  25094.39   \n",
              "...          ...      ...         ...        ...        ...       ...   \n",
              "4995    495000.0    85641 -110.661829  31.907917       4.98   2017.00   \n",
              "4996    550000.0    85750 -110.858556  32.316373       1.42   4822.01   \n",
              "4997    475000.0    85192 -110.755428  32.964708      12.06   1000.00   \n",
              "4998    550000.0    85745 -111.055528  32.296871       1.01   5822.93   \n",
              "4999    450000.0    85621 -110.913054  31.385259       4.16   2814.48   \n",
              "\n",
              "      year_built  bedrooms  bathrooms  sqrt_ft  garage  \\\n",
              "4           1995         4        6.0   6396.0     3.0   \n",
              "5           1999         3        4.0   6842.0     3.0   \n",
              "6           2001         9        8.0  12025.0     4.0   \n",
              "7           2011         6        8.0   8921.0     4.0   \n",
              "8           2002         5        7.0   5238.0     3.0   \n",
              "...          ...       ...        ...      ...     ...   \n",
              "4995        2005         5        3.0   3601.0     3.0   \n",
              "4996        1990         4        3.0   2318.0     3.0   \n",
              "4997        1969         3        2.0   1772.0     0.0   \n",
              "4998        2009         4        4.0   3724.0     3.0   \n",
              "4999        1988         4        4.0   4317.0     NaN   \n",
              "\n",
              "                                       kitchen_features fireplaces  \\\n",
              "4     Dishwasher, Garbage Disposal, Refrigerator, Mi...          5   \n",
              "5     Dishwasher, Garbage Disposal, Refrigerator, Mi...          5   \n",
              "6                    Dishwasher, Garbage Disposal, Oven          6   \n",
              "7     Compactor, Dishwasher, Freezer, Garbage Dispos...          5   \n",
              "8     Compactor, Dishwasher, Freezer, Garbage Dispos...          1   \n",
              "...                                                 ...        ...   \n",
              "4995  Dishwasher, Double Sink, Garbage Disposal, Gas...          1   \n",
              "4996  Dishwasher, Double Sink, Electric Range, Garba...          1   \n",
              "4997  Dishwasher, Electric Range, Island, Refrigerat...          0   \n",
              "4998  Dishwasher, Double Sink, Garbage Disposal, Gas...          1   \n",
              "4999  Compactor, Dishwasher, Double Sink, Island, Ap...          3   \n",
              "\n",
              "                          floor_covering  \n",
              "4                       Carpet, Concrete  \n",
              "5             Natural Stone, Wood, Other  \n",
              "6     Carpet, Natural Stone, Wood, Other  \n",
              "7            Carpet, Natural Stone, Wood  \n",
              "8     Carpet, Natural Stone, Wood, Other  \n",
              "...                                  ...  \n",
              "4995                Carpet, Ceramic Tile  \n",
              "4996                Carpet, Ceramic Tile  \n",
              "4997                        Ceramic Tile  \n",
              "4998                Carpet, Ceramic Tile  \n",
              "4999                Carpet, Mexican Tile  \n",
              "\n",
              "[4980 rows x 14 columns]"
            ]
          },
          "metadata": {
            "tags": []
          },
          "execution_count": 179
        }
      ]
    },
    {
      "cell_type": "code",
      "metadata": {
        "id": "JplAppU5KDAG"
      },
      "source": [
        ""
      ],
      "execution_count": null,
      "outputs": []
    }
  ]
}